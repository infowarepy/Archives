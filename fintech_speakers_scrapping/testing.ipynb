{
 "cells": [
  {
   "cell_type": "code",
   "execution_count": 21,
   "id": "8f743fd7",
   "metadata": {},
   "outputs": [],
   "source": [
    "from selenium import webdriver\n",
    "# from selenium.webdriver.common.keys import Keys\n",
    "from bs4 import BeautifulSoup\n",
    "from selenium.webdriver.chrome.service import Service\n",
    "from webdriver_manager.chrome import ChromeDriverManager\n",
    "# from selenium.webdriver.common.by import By\n",
    "# import time\n",
    "# import requests\n",
    "import csv"
   ]
  },
  {
   "cell_type": "code",
   "execution_count": 19,
   "id": "671572b5",
   "metadata": {},
   "outputs": [],
   "source": [
    "driver = webdriver.Chrome(service= Service(ChromeDriverManager().install()))\n",
    "driver.get('file:///E:/Infoware/fintech_speakers_scrapping/Top%20Fintech%20Speakers%20in%20India%20_%20Global%20Fintech%20Fest.-htmlhtml.html')"
   ]
  },
  {
   "cell_type": "code",
   "execution_count": 76,
   "id": "08027a87",
   "metadata": {},
   "outputs": [],
   "source": [
    "page_source = driver.page_source\n",
    "soup = BeautifulSoup(page_source, 'html.parser')\n",
    "dialog_div = soup.find('div', class_='dialog-off-canvas-main-canvas')\n",
    "container_div = dialog_div.select_one('.content .graybg .w-100 .layout .col-lg-12 .views-element-container .content .js-view-dom-id-152c41b0c097451823567e70a8a7b211c5ee7e5ea45289424686ed45dc29c973 .row')"
   ]
  },
  {
   "cell_type": "code",
   "execution_count": 86,
   "id": "989bab43",
   "metadata": {},
   "outputs": [],
   "source": [
    "speakers = container_div.select('div.col-6.col-lg-3')"
   ]
  },
  {
   "cell_type": "code",
   "execution_count": 113,
   "id": "8bd195d8",
   "metadata": {},
   "outputs": [
    {
     "name": "stdout",
     "output_type": "stream",
     "text": [
      "['Smt. Nirmala Sitharaman', 'Government of India', 'na']\n",
      "['Dr. Bhagwat Kishanrao Karad', 'Government of India', 'na']\n",
      "['Shri Shaktikanta Das', 'Reserve Bank of India', 'na']\n",
      "['Shri Devendra Fadnavis', 'Maharashtra', 'na']\n",
      "['Smt. Madhabi Puri Buch', 'Securities and Exchange Board of India', 'na']\n",
      "['Shri K Rajaraman', 'International Financial Services Centre Authority', 'na']\n",
      "['Shri Debasish Panda', 'Insurance Regulatory and Development Authority of India', 'na']\n",
      "['Shri Tusharkanti Behera', 'Government of Odisha', 'na']\n",
      "['Dr. Vivek Joshi', 'Ministry of Finance, Government of India', 'na']\n",
      "['Shri Sumnesh Joshi', 'Government of India', 'Government of India']\n",
      "['Shri T Rabi Sankar', 'Reserve Bank of India', 'na']\n",
      "['Hon. Soraya M Hakuziyaremye', 'National Bank of Rwanda', 'https://www.linkedin.com/in/soraya-m-hakuziyaremye-2017581/?originalSubdomain=rw']\n",
      "['Shri Ajay Kumar Choudhary', 'Reserve bank of India', 'na']\n",
      "['Shri P Vasudevan', 'Reserve Bank of India', 'na']\n",
      "['Shri Dinesh Kumar Khara', 'State Bank of India', 'na']\n",
      "['Deepak Parekh', 'HDFC Limited', 'https://www.linkedin.com/in/deepak-parekh-5889aa226/?originalSubdomain=in']\n",
      "['K V Kamath', 'National Bank for Financing Infrastructure and Development', 'na']\n",
      "['S N Subrahmanyan', 'Larsen and Toubro Limited', 'na']\n",
      "['Aleksi Grym', 'Bank of Finland', 'https://fi.linkedin.com/in/aleksigrym']\n",
      "['Eduardo Enrique Torres Llosa Villacorta', 'Central Bank of Peru', 'https://www.linkedin.com/in/eduardo-torres-llosa-501774141/?originalSubdomain=pe']\n",
      "['H.E. Khaled Albasias', 'Saudi Central Bank (SAMA)', 'na']\n",
      "['Professor Dr.Joachim Wuermeling', 'Deutsche Bundesbank', 'https://de.linkedin.com/in/prof-dr-joachim-wuermeling-3a635a17']\n",
      "['Kris Gopalakrishnan', 'Infosys', 'https://in.linkedin.com/in/kris-gopalakrishnan-10b49950']\n",
      "['Thomas Kurian', 'Google Cloud', 'https://www.linkedin.com/in/thomas-kurian-469b6219/']\n",
      "['Shri Suvendu Pati', 'Reserve Bank of India (RBI)', 'na']\n",
      "['Andy White', 'Australian Payments Network (AusPayNet)', 'linkedin.com/in/amswhite']\n",
      "['Doris Dietze', 'German Federal Ministry of Finance', 'https://www.linkedin.com/in/doris-dietze-250169187/']\n",
      "['Masaki Bessho', 'Bank of Japan', 'https://jp.linkedin.com/in/masaki-bessho-a518a613']\n",
      "['Chris Winter', 'Discover Financial Services', 'https://www.linkedin.com/in/chris-winter-829297/']\n",
      "['Cecilia Skingsley', 'Bank for International Settlements', 'https://www.linkedin.com/in/cecilia-skingsley-0a88376/']\n",
      "['Dilip Asbe', 'National Payments Corporation of India (NPCI)', 'https://in.linkedin.com/in/dilip-asbe-0185453']\n",
      "['Shri Rajesh Bansal', 'Reserve Bank Innovation Hub', 'https://in.linkedin.com/in/rajesh-bansal-b81b8655']\n",
      "['Shri T Koshy', 'Open Network for Digital Commerce (ONDC)', 'https://www.linkedin.com/in/koshy89/?originalSubdomain=in']\n",
      "['Vladyslav Yatsenko', 'Revolut', 'https://www.linkedin.com/in/yatsenko/?originalSubdomain=uk']\n",
      "['Yoshiki Kaneko', 'JCB International', 'https://www.linkedin.com/in/yoshiki-kaneko-93ab7210/']\n",
      "['Amitabh Chaudhry', 'Axis Bank', 'https://in.linkedin.com/in/amitabh-chaudhry-7b560b1']\n",
      "['G Padmanabhan', 'Reserve Bank of India and Ex Chairman of Bank of India', 'na']\n",
      "['Gen Tsuchikawa', 'Sony Ventures Corporation', 'https://www.linkedin.com/in/gen-tsuchikawa-7952231b/']\n",
      "['Jordan McKee', '451 Research, a part of S and P Global Market Intelligence', 'https://www.linkedin.com/in/jordanmckee/']\n",
      "['Xavier Faz', 'CGAP', 'https://www.linkedin.com/in/xavierfaz?miniProfileUrn=urn%3Ali%3Afs_miniProfile%3AACoAAAAgfhwB2NGrSVRl-BYOCE8pMOe4Li6rmis&amp;lipi=urn%3Ali%3Apage%3Ad_flagship3_search_srp_all%3BYuxJr88nQb%2BC4WBx%2BWAT8Q%3D%3D']\n",
      "['Avnish Bajaj', 'Matrix Partners India', 'https://www.linkedin.com/in/avnish-bajaj-47b385/']\n",
      "['Karl Mehta', 'The Quad Investors Network', 'https://www.linkedin.com/in/mehtakarl/']\n",
      "['Sameer Nigam', 'PhonePe', 'https://www.linkedin.com/in/sanigam/']\n",
      "['Shri K Vijayakumar', 'Reserve Bank of India', 'https://www.linkedin.com/in/vijayakumar-kandiyil-670522230/?originalSubdomain=in']\n",
      "['Camilla Bullock', 'Emerging Payments Association Asia', 'https://au.linkedin.com/in/camillaolofsson']\n",
      "['H.E. Majell Hind', 'Department of Foreign Affairs and Trade, Australian Government', 'na']\n",
      "['Michael Mbuthia', 'AfricaNenda', 'https://www.linkedin.com/in/michael-mbuthia-979a9123/']\n",
      "['Rajan Anandan', 'Peak XV', 'https://www.linkedin.com/in/rajan-anandan-2481b814']\n",
      "['Shri Challa Sreenivasulu Setty', 'State Bank of India', 'https://www.linkedin.com/in/challa-sreenivasulu-setty-53514316b/?originalSubdomain=in']\n",
      "['Shri Rana Ashutosh Kumar Singh', 'State Bank of India', 'https://www.linkedin.com/in/rana-ashutosh-kumar-singh-36966931/?originalSubdomain=in']\n",
      "['Honor Gunday', 'Paymentwall, Inc', 'https://www.linkedin.com/in/honor/']\n",
      "['Suresh Sethi', 'Protean eGov Technologies Ltd.', 'https://www.linkedin.com/in/sureshsethi/']\n",
      "['Shri Ajit Kesari,IAS', 'Government of Madhya Pradesh', 'na']\n",
      "['Shri B Sunil Kumar Reddy IFS', 'Andhra Pradesh Centre for Financial  Systems and Services', 'https://www.linkedin.com/in/sunil-kumar-91767067/?originalSubdomain=in']\n",
      "['Shri Debashis Sen,IAS', 'HIDCO', 'na']\n",
      "['Shri Manoj Kumar Mishra', 'Government of Odisha', 'https://www.linkedin.com/in/manoj-kumar-mishra-93a00b119/?originalSubdomain=in']\n",
      "['Dr.Amar Patnaik', 'Odhisha', 'na']\n",
      "['Shri Navdeep Virk, IPS', 'Government of Haryana', 'https://www.linkedin.com/in/nsvirk/?originalSubdomain=in']\n",
      "['Dr Omkar Rai', 'Startup Odisha', 'linkedin.com/in/dromkarrai']\n",
      "['Shri Viplove K', 'Telangana', 'https://www.linkedin.com/in/viplovekurakula/?originalSubdomain=in']\n",
      "['Dr Sanjay Mukherjee,IAS', 'MMRDA', 'https://www.linkedin.com/in/dr-sanjay-mukherjee-ias-b81b1211/?originalSubdomain=in']\n",
      "['Shri Vishal Kumar Dev,IAS', 'Odisha Finance', 'na']\n",
      "['Shri Chian-Leng Toh', 'Discover', 'na']\n",
      "['Shri Parrag Jaiin Nainuttia, IAS', 'Government of Maharashtra', 'https://www.linkedin.com/in/pjnainutia/?originalSubdomain=in']\n",
      "['Shri T. Anil Kumar', 'Government of Andhra Pradesh', 'na']\n",
      "['Dr Ahmed Iqbal, IAS', 'Uttarakhand', 'https://www.linkedin.com/in/ahmed-iqbal-044b7931/?originalSubdomain=in']\n",
      "['Dr. L.P. Sharma', 'Government of India', 'na']\n",
      "['Smt Nikita Khandelwal IAS', 'Uttarakhand', 'https://www.linkedin.com/in/nitika-khandelwal-ias-839b3721/?originalSubdomain=in']\n",
      "['Shri Neil Jain, IRS', 'UIDAI', 'https://www.linkedin.com/in/dr-neil-jain-30a51215/?originalSubdomain=in']\n",
      "['Shri Srinivas Rao Mahankali', 'T-Hub', 'https://www.linkedin.com/in/srinivas-rao-mahankali-msr-767b77175/']\n",
      "['Shri Vikas Rastogi,IAS', 'Government of Maharashtra', 'https://www.linkedin.com/in/vikas-rastogi-2b026242/?originalSubdomain=in']\n",
      "['Dr Pradeep Kumar,IFS', 'Government of Sikkim', 'https://www.linkedin.com/in/pradeep-kumar-a3572382/?originalSubdomain=in']\n",
      "['Dr Arundhathi Chandrasekhar , IAS', 'Government of Karnataka', 'na']\n",
      "['Shri Kshitij Saxena,IFS', 'Government of Sikkim', 'na']\n",
      "['Shri Ganesh Shankar Mishra IAS', 'MP Power', 'na']\n",
      "['Shri Rajeev Kumar, IPS', 'Government of West Bengal', 'https://www.linkedin.com/in/rajeev-kumar-800b30237/?originalSubdomain=in']\n",
      "['Shri Kamal Preet Singh, IAS', 'Government of Chhattisgarh', 'na']\n",
      "['Shri M A Siddique, IAS', 'Chennai Metro Rail', 'na']\n",
      "['Shri Manas Kumar Panda, ITS', 'Odisha', 'na']\n",
      "['Smt. Sanghamitra Ghosh, IAS', 'Government of West Bengal', 'https://www.linkedin.com/in/sanghamitra-ghosh-4a983855/?originalSubdomain=in']\n",
      "['R Gandhi', 'Reserve Bank of India (RBI)', 'https://www.linkedin.com/in/gandhi-r-90a14017b/?originalSubdomain=in']\n",
      "['Shri Abhijeet Agarwal,IAS', 'Madhya Pradesh', 'https://www.linkedin.com/in/abhijeet-agrawal-49180128/?originalSubdomain=in']\n",
      "['Shri Priyank Kharge', 'Government of Karnataka', 'https://www.linkedin.com/in/priyank-m-kharge-934490147/?originalSubdomain=in']\n"
     ]
    }
   ],
   "source": [
    "for speaker in speakers:\n",
    "    speaker_name = speaker.find('h4').text.strip()\n",
    "    company_name = speaker.find_all('p')[1].text.strip()  # Assuming the company name is the second <p> element\n",
    "    linkedin_element = speaker.find('a', class_='card--linkedinimg')\n",
    "    if linkedin_element:\n",
    "        linkedin_url=linkedin_element['href']\n",
    "    else:\n",
    "        linkedin_url='na'\n",
    "    log_data=[speaker_name,company_name,linkedin_url]\n",
    "    with open('speakers_log.csv','a',newline='') as file:\n",
    "        writer=csv.writer(file)\n",
    "        writer.writerow(log_data)"
   ]
  },
  {
   "cell_type": "code",
   "execution_count": 111,
   "id": "ba0c9ab2",
   "metadata": {},
   "outputs": [
    {
     "name": "stdout",
     "output_type": "stream",
     "text": [
      "https://www.linkedin.com/in/soraya-m-hakuziyaremye-2017581/?originalSubdomain=rw\n"
     ]
    }
   ],
   "source": [
    "linkedin_url = speakers[11].find('a', class_='card--linkedinimg')['href']\n",
    "print(linkedin_url)"
   ]
  },
  {
   "cell_type": "code",
   "execution_count": 91,
   "id": "667cfcac",
   "metadata": {},
   "outputs": [],
   "source": [
    " = speakers[11].find_all('p')[1].text.strip()  # Assuming the company name is the second <p> element"
   ]
  },
  {
   "cell_type": "code",
   "execution_count": 93,
   "id": "98bac474",
   "metadata": {},
   "outputs": [
    {
     "data": {
      "text/plain": [
       "'Government of India'"
      ]
     },
     "execution_count": 93,
     "metadata": {},
     "output_type": "execute_result"
    }
   ],
   "source": [
    "company_name"
   ]
  },
  {
   "cell_type": "code",
   "execution_count": null,
   "id": "601d57b1",
   "metadata": {},
   "outputs": [],
   "source": []
  }
 ],
 "metadata": {
  "kernelspec": {
   "display_name": "Python 3 (ipykernel)",
   "language": "python",
   "name": "python3"
  },
  "language_info": {
   "codemirror_mode": {
    "name": "ipython",
    "version": 3
   },
   "file_extension": ".py",
   "mimetype": "text/x-python",
   "name": "python",
   "nbconvert_exporter": "python",
   "pygments_lexer": "ipython3",
   "version": "3.9.16"
  }
 },
 "nbformat": 4,
 "nbformat_minor": 5
}
