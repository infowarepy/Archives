{
 "cells": [
  {
   "cell_type": "code",
   "execution_count": 2,
   "id": "8ba68556",
   "metadata": {},
   "outputs": [],
   "source": [
    "import pytesseract\n",
    "from PIL import Image\n",
    "\n"
   ]
  },
  {
   "cell_type": "code",
   "execution_count": null,
   "id": "9ed0848d",
   "metadata": {},
   "outputs": [],
   "source": [
    "def image_to_math_expression(image_path):\n",
    "    \"\"\"\n",
    "    Convert an image containing a mathematical expression into text.\n",
    "\n",
    "    Args:\n",
    "        image_path (str): The path to the image file.\n",
    "\n",
    "    Returns:\n",
    "        str: The extracted mathematical expression as text.\n",
    "    \"\"\"\n",
    "    try:\n",
    "        # Open the image using Pillow (PIL)\n",
    "        img = Image.open(image_path)\n",
    "\n",
    "        # Use pytesseract to extract text from the image\n",
    "        math_expression = pytesseract.image_to_string(img)\n",
    "\n",
    "        return math_expression\n",
    "\n",
    "    except Exception as e:\n",
    "        print(f\"An error occurred: {str(e)}\")\n",
    "        return None\n",
    "\n",
    "# Example usage:\n",
    "image_path = \"math_expression_image.png\"  # Replace with the path to your image\n",
    "extracted_expression = image_to_math_expression(image_path)\n",
    "if extracted_expression:\n",
    "    print(\"Extracted Mathematical Expression:\")\n",
    "    print(extracted_expression)"
   ]
  },
  {
   "cell_type": "code",
   "execution_count": 15,
   "id": "dfc4a0be",
   "metadata": {},
   "outputs": [],
   "source": [
    "from gtts import gTTS\n",
    "from playsound import playsound\n",
    "\n",
    "filename = 'my_gtts_file_new.wav'\n",
    "\n",
    "tts = gTTS(\"2+4^5\")\n",
    "tts.save(filename)\n",
    "# playsound(filename)"
   ]
  },
  {
   "cell_type": "code",
   "execution_count": 18,
   "id": "ad15de19",
   "metadata": {},
   "outputs": [],
   "source": [
    "import pyttsx3\n",
    "\n",
    "def text_to_speech(message):\n",
    "    engine = pyttsx3.init()\n",
    "    engine.setProperty('rate',125)\n",
    "    voices = engine.getProperty('voices')\n",
    "    engine.setProperty('voice', voices[1].id)\n",
    "    engine.save_to_file(message,'test.mp3')\n",
    "    engine.runAndWait()"
   ]
  },
  {
   "cell_type": "code",
   "execution_count": 19,
   "id": "8168de28",
   "metadata": {},
   "outputs": [],
   "source": [
    "text_to_speech('3+4^8')"
   ]
  },
  {
   "cell_type": "code",
   "execution_count": null,
   "id": "ab18ac15",
   "metadata": {},
   "outputs": [],
   "source": []
  }
 ],
 "metadata": {
  "kernelspec": {
   "display_name": "Python 3 (ipykernel)",
   "language": "python",
   "name": "python3"
  },
  "language_info": {
   "codemirror_mode": {
    "name": "ipython",
    "version": 3
   },
   "file_extension": ".py",
   "mimetype": "text/x-python",
   "name": "python",
   "nbconvert_exporter": "python",
   "pygments_lexer": "ipython3",
   "version": "3.9.16"
  }
 },
 "nbformat": 4,
 "nbformat_minor": 5
}
