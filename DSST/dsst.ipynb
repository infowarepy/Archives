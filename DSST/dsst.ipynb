{
 "cells": [
  {
   "cell_type": "code",
   "execution_count": 157,
   "id": "b587486f",
   "metadata": {},
   "outputs": [],
   "source": [
    "import cv2"
   ]
  },
  {
   "cell_type": "code",
   "execution_count": 158,
   "id": "d7383ca6",
   "metadata": {},
   "outputs": [],
   "source": [
    "dict={}\n",
    "for i in range(5):\n",
    "    dict[str(i)]=cv2.imread(f'images/{str(i)}.png')"
   ]
  },
  {
   "cell_type": "code",
   "execution_count": 197,
   "id": "5e20c55f",
   "metadata": {},
   "outputs": [],
   "source": [
    "given='2'"
   ]
  },
  {
   "cell_type": "code",
   "execution_count": 7,
   "id": "312441b5",
   "metadata": {},
   "outputs": [],
   "source": [
    "drawn=cv2.imread('images/drawn4.png')\n",
    "img=cv2.cvtColor(drawn, cv2.COLOR_BGR2GRAY)\n",
    "img = cv2.resize(img, (50, 50))\n",
    "img = img.reshape((1,50,50,1))"
   ]
  },
  {
   "cell_type": "code",
   "execution_count": 6,
   "id": "acd171ff",
   "metadata": {},
   "outputs": [],
   "source": [
    "# from tensorflow.keras.models import load_model,save_model\n",
    "# newModel=load_model('models/symbol_recognition.h5')"
   ]
  },
  {
   "cell_type": "code",
   "execution_count": 8,
   "id": "748db43c",
   "metadata": {},
   "outputs": [
    {
     "name": "stdout",
     "output_type": "stream",
     "text": [
      "1/1 [==============================] - 0s 478ms/step\n"
     ]
    },
    {
     "data": {
      "text/plain": [
       "array([3], dtype=int64)"
      ]
     },
     "execution_count": 8,
     "metadata": {},
     "output_type": "execute_result"
    }
   ],
   "source": [
    "newModel.predict(img).argmax(axis=1)"
   ]
  },
  {
   "cell_type": "code",
   "execution_count": null,
   "id": "dbb6e7af",
   "metadata": {},
   "outputs": [],
   "source": []
  }
 ],
 "metadata": {
  "kernelspec": {
   "display_name": "Python 3 (ipykernel)",
   "language": "python",
   "name": "python3"
  },
  "language_info": {
   "codemirror_mode": {
    "name": "ipython",
    "version": 3
   },
   "file_extension": ".py",
   "mimetype": "text/x-python",
   "name": "python",
   "nbconvert_exporter": "python",
   "pygments_lexer": "ipython3",
   "version": "3.9.16"
  }
 },
 "nbformat": 4,
 "nbformat_minor": 5
}
