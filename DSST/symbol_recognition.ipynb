{
 "cells": [
  {
   "cell_type": "code",
   "execution_count": 4,
   "metadata": {
    "id": "yBKm5h3pBjqC"
   },
   "outputs": [],
   "source": [
    "import tensorflow as tf\n",
    "from tensorflow import keras\n",
    "from tensorflow.keras import Sequential\n",
    "from tensorflow.keras.layers import Dense,Flatten, Conv2D, AveragePooling2D, BatchNormalization, Dropout, MaxPooling2D\n",
    "from tensorflow.keras.regularizers import l2\n",
    "from tensorflow.keras.layers import Activation"
   ]
  },
  {
   "cell_type": "code",
   "execution_count": 19,
   "metadata": {
    "colab": {
     "base_uri": "https://localhost:8080/"
    },
    "id": "-smUi8y-Bynb",
    "outputId": "199931a5-10fe-4a47-9a4b-48dde867bac0"
   },
   "outputs": [
    {
     "name": "stdout",
     "output_type": "stream",
     "text": [
      "Found 10000 files belonging to 10 classes.\n",
      "Found 2000 files belonging to 10 classes.\n"
     ]
    }
   ],
   "source": [
    "  # generators\n",
    "train_ds = keras.utils.image_dataset_from_directory(\n",
    "    directory = 'dataset/train',\n",
    "    labels='inferred',\n",
    "    label_mode = 'int',\n",
    "    batch_size=32,\n",
    "    image_size=(50,50),\n",
    "    shuffle=True\n",
    ")\n",
    "\n",
    "validation_ds = keras.utils.image_dataset_from_directory(\n",
    "    directory = 'dataset/test',\n",
    "    labels='inferred',\n",
    "    label_mode = 'int',\n",
    "    batch_size=32,\n",
    "    image_size=(50,50),\n",
    "    shuffle=True\n",
    ")\n"
   ]
  },
  {
   "cell_type": "code",
   "execution_count": 20,
   "metadata": {
    "id": "nylrL442B08q"
   },
   "outputs": [],
   "source": [
    "def preprocessing(image, label):\n",
    "    image = tf.image.rgb_to_grayscale(image)\n",
    "    image = tf.cast(image / 255., tf.float32)\n",
    "    return image, label\n",
    "\n",
    "train_ds = train_ds.map(preprocessing)\n",
    "validation_ds = validation_ds.map(preprocessing)\n"
   ]
  },
  {
   "cell_type": "code",
   "execution_count": 21,
   "metadata": {
    "id": "xA364H4nB3NL"
   },
   "outputs": [],
   "source": [
    "# LENET CNN architecture with batch normalization and dropout layer to reduce overfitting\n",
    "model = Sequential()\n",
    "\n",
    "model.add(Conv2D(6,kernel_size=(5,5),padding='same',activation='tanh',input_shape=(50,50,1)))\n",
    "model.add(BatchNormalization())\n",
    "model.add(AveragePooling2D(pool_size=(2,2),strides=2,padding='valid'))\n",
    "\n",
    "model.add(Conv2D(16,kernel_size=(5,5),padding='valid',activation='tanh'))\n",
    "model.add(BatchNormalization())\n",
    "model.add(AveragePooling2D(pool_size=(2,2),strides=2,padding='valid'))\n",
    "\n",
    "model.add(Flatten())\n",
    "model.add(Dense(128,activation='relu'))\n",
    "model.add(Dropout(0.1))\n",
    "model.add(Dense(64,activation='relu'))\n",
    "model.add(Dropout(0.1))\n",
    "model.add(Dense(32,activation='relu'))\n",
    "model.add(Dropout(0.1))\n",
    "model.add(Dense(10,activation='softmax'))"
   ]
  },
  {
   "cell_type": "code",
   "execution_count": 22,
   "metadata": {
    "colab": {
     "base_uri": "https://localhost:8080/"
    },
    "id": "ylvg0sqzB6qL",
    "outputId": "2752b9e3-0299-46f4-cf89-a7750d445961"
   },
   "outputs": [
    {
     "name": "stdout",
     "output_type": "stream",
     "text": [
      "Model: \"sequential_2\"\n",
      "_________________________________________________________________\n",
      " Layer (type)                Output Shape              Param #   \n",
      "=================================================================\n",
      " conv2d_4 (Conv2D)           (None, 50, 50, 6)         156       \n",
      "                                                                 \n",
      " batch_normalization_4 (Batc  (None, 50, 50, 6)        24        \n",
      " hNormalization)                                                 \n",
      "                                                                 \n",
      " average_pooling2d_4 (Averag  (None, 25, 25, 6)        0         \n",
      " ePooling2D)                                                     \n",
      "                                                                 \n",
      " conv2d_5 (Conv2D)           (None, 21, 21, 16)        2416      \n",
      "                                                                 \n",
      " batch_normalization_5 (Batc  (None, 21, 21, 16)       64        \n",
      " hNormalization)                                                 \n",
      "                                                                 \n",
      " average_pooling2d_5 (Averag  (None, 10, 10, 16)       0         \n",
      " ePooling2D)                                                     \n",
      "                                                                 \n",
      " flatten_2 (Flatten)         (None, 1600)              0         \n",
      "                                                                 \n",
      " dense_8 (Dense)             (None, 128)               204928    \n",
      "                                                                 \n",
      " dropout_6 (Dropout)         (None, 128)               0         \n",
      "                                                                 \n",
      " dense_9 (Dense)             (None, 64)                8256      \n",
      "                                                                 \n",
      " dropout_7 (Dropout)         (None, 64)                0         \n",
      "                                                                 \n",
      " dense_10 (Dense)            (None, 32)                2080      \n",
      "                                                                 \n",
      " dropout_8 (Dropout)         (None, 32)                0         \n",
      "                                                                 \n",
      " dense_11 (Dense)            (None, 10)                330       \n",
      "                                                                 \n",
      "=================================================================\n",
      "Total params: 218,254\n",
      "Trainable params: 218,210\n",
      "Non-trainable params: 44\n",
      "_________________________________________________________________\n"
     ]
    }
   ],
   "source": [
    "model.summary()"
   ]
  },
  {
   "cell_type": "code",
   "execution_count": 23,
   "metadata": {
    "id": "akEZqNQ5B9AG"
   },
   "outputs": [],
   "source": [
    "model.compile(loss='sparse_categorical_crossentropy',optimizer='Adam',metrics=['accuracy'])"
   ]
  },
  {
   "cell_type": "code",
   "execution_count": 24,
   "metadata": {
    "colab": {
     "base_uri": "https://localhost:8080/"
    },
    "id": "SbcdO_0CB-5v",
    "outputId": "f8aeb75b-002b-48a0-fb77-061c389aec07"
   },
   "outputs": [
    {
     "name": "stdout",
     "output_type": "stream",
     "text": [
      "Epoch 1/20\n",
      "313/313 [==============================] - 8s 11ms/step - loss: 0.3203 - accuracy: 0.8885 - val_loss: 0.1368 - val_accuracy: 0.9480\n",
      "Epoch 2/20\n",
      "313/313 [==============================] - 5s 15ms/step - loss: 0.0215 - accuracy: 0.9923 - val_loss: 0.0754 - val_accuracy: 0.9755\n",
      "Epoch 3/20\n",
      "313/313 [==============================] - 4s 13ms/step - loss: 0.0074 - accuracy: 0.9975 - val_loss: 3.3766e-04 - val_accuracy: 1.0000\n",
      "Epoch 4/20\n",
      "313/313 [==============================] - 4s 12ms/step - loss: 0.0106 - accuracy: 0.9962 - val_loss: 0.6474 - val_accuracy: 0.8795\n",
      "Epoch 5/20\n",
      "313/313 [==============================] - 5s 15ms/step - loss: 0.0093 - accuracy: 0.9968 - val_loss: 0.0778 - val_accuracy: 0.9760\n",
      "Epoch 6/20\n",
      "313/313 [==============================] - 4s 13ms/step - loss: 0.0102 - accuracy: 0.9976 - val_loss: 2.3975e-04 - val_accuracy: 1.0000\n",
      "Epoch 7/20\n",
      "313/313 [==============================] - 4s 11ms/step - loss: 0.0072 - accuracy: 0.9975 - val_loss: 3.4129e-04 - val_accuracy: 1.0000\n",
      "Epoch 8/20\n",
      "313/313 [==============================] - 5s 17ms/step - loss: 0.0043 - accuracy: 0.9984 - val_loss: 0.0074 - val_accuracy: 0.9975\n",
      "Epoch 9/20\n",
      "313/313 [==============================] - 4s 12ms/step - loss: 0.0021 - accuracy: 0.9995 - val_loss: 0.0070 - val_accuracy: 0.9990\n",
      "Epoch 10/20\n",
      "313/313 [==============================] - 4s 11ms/step - loss: 0.0014 - accuracy: 0.9995 - val_loss: 0.0012 - val_accuracy: 0.9995\n",
      "Epoch 11/20\n",
      "313/313 [==============================] - 4s 13ms/step - loss: 5.0802e-04 - accuracy: 0.9997 - val_loss: 2.9472e-07 - val_accuracy: 1.0000\n",
      "Epoch 12/20\n",
      "313/313 [==============================] - 4s 12ms/step - loss: 4.6072e-04 - accuracy: 0.9998 - val_loss: 4.4323e-06 - val_accuracy: 1.0000\n",
      "Epoch 13/20\n",
      "313/313 [==============================] - 5s 14ms/step - loss: 0.0039 - accuracy: 0.9990 - val_loss: 0.1764 - val_accuracy: 0.9530\n",
      "Epoch 14/20\n",
      "313/313 [==============================] - 5s 14ms/step - loss: 0.0184 - accuracy: 0.9962 - val_loss: 3.0105 - val_accuracy: 0.6885\n",
      "Epoch 15/20\n",
      "313/313 [==============================] - 4s 11ms/step - loss: 0.0091 - accuracy: 0.9982 - val_loss: 0.1760 - val_accuracy: 0.9650\n",
      "Epoch 16/20\n",
      "313/313 [==============================] - 5s 15ms/step - loss: 0.0081 - accuracy: 0.9982 - val_loss: 6.5484e-04 - val_accuracy: 0.9995\n",
      "Epoch 17/20\n",
      "313/313 [==============================] - 4s 13ms/step - loss: 6.5415e-04 - accuracy: 0.9996 - val_loss: 0.0021 - val_accuracy: 0.9990\n",
      "Epoch 18/20\n",
      "313/313 [==============================] - 5s 16ms/step - loss: 0.0020 - accuracy: 0.9996 - val_loss: 0.0026 - val_accuracy: 0.9995\n",
      "Epoch 19/20\n",
      "313/313 [==============================] - 6s 18ms/step - loss: 5.5826e-04 - accuracy: 0.9999 - val_loss: 0.0027 - val_accuracy: 0.9995\n",
      "Epoch 20/20\n",
      "313/313 [==============================] - 4s 11ms/step - loss: 0.0077 - accuracy: 0.9984 - val_loss: 5.2763 - val_accuracy: 0.5995\n"
     ]
    }
   ],
   "source": [
    "history=model.fit(train_ds,epochs=20,validation_data=validation_ds)"
   ]
  },
  {
   "cell_type": "code",
   "execution_count": 25,
   "metadata": {
    "colab": {
     "base_uri": "https://localhost:8080/",
     "height": 430
    },
    "id": "tZxW55f2CALx",
    "outputId": "7b119c45-7d62-441f-9d8f-226a1d0c6acf"
   },
   "outputs": [
    {
     "data": {
      "image/png": "[encoded data removed]",
      "text/plain": [
       "<Figure size 640x480 with 1 Axes>"
      ]
     },
     "metadata": {},
     "output_type": "display_data"
    }
   ],
   "source": [
    "import matplotlib.pyplot as plt\n",
    "\n",
    "plt.plot(history.history['accuracy'],color='red',label='train')\n",
    "plt.plot(history.history['val_accuracy'],color='blue',label='validation')\n",
    "plt.legend()\n",
    "plt.show()"
   ]
  },
  {
   "cell_type": "code",
   "execution_count": 26,
   "metadata": {
    "colab": {
     "base_uri": "https://localhost:8080/",
     "height": 430
    },
    "id": "NpPZo0pTCkX6",
    "outputId": "ee750cd7-0b5a-40c3-b518-10b8248698d3"
   },
   "outputs": [
    {
     "data": {
      "image/png": "[encoded data removed]",
      "text/plain": [
       "<Figure size 640x480 with 1 Axes>"
      ]
     },
     "metadata": {},
     "output_type": "display_data"
    }
   ],
   "source": [
    "plt.plot(history.history['loss'],color='red',label='train')\n",
    "plt.plot(history.history['val_loss'],color='blue',label='validation')\n",
    "plt.legend()\n",
    "plt.show()"
   ]
  },
  {
   "cell_type": "code",
   "execution_count": 42,
   "metadata": {
    "id": "YfDOYXbQCnjE"
   },
   "outputs": [],
   "source": [
    "# from tensorflow.keras.models import load_model\n",
    "# model.save('/content/drive/MyDrive/Infoware/symbol_recognition.h5')"
   ]
  },
  {
   "cell_type": "code",
   "execution_count": 4,
   "metadata": {},
   "outputs": [],
   "source": [
    "from tensorflow.keras.models import load_model,save_model\n",
    "newModel=load_model('models/symbol_recognition.h5')"
   ]
  },
  {
   "cell_type": "code",
   "execution_count": 10,
   "metadata": {
    "id": "mNukzboxFn38"
   },
   "outputs": [],
   "source": [
    "import cv2\n",
    "img_list=[]\n",
    "for i in range(10):\n",
    "  img=cv2.imread(f'images/drawn{i}.png')\n",
    "  img=cv2.cvtColor(img, cv2.COLOR_BGR2GRAY)\n",
    "  img = cv2.resize(img, (50, 50))\n",
    "  img = img.reshape((1,50,50,1))\n",
    "  img_list.append(img)"
   ]
  },
  {
   "cell_type": "code",
   "execution_count": 11,
   "metadata": {
    "colab": {
     "base_uri": "https://localhost:8080/"
    },
    "id": "FC-DjH9Zq-ZB",
    "outputId": "2a6c9265-ea96-43ca-ca6e-9ae1263fbc96"
   },
   "outputs": [
    {
     "name": "stdout",
     "output_type": "stream",
     "text": [
      "1/1 [==============================] - 0s 63ms/step\n",
      "drawn0=  [8]\n",
      "1/1 [==============================] - 0s 47ms/step\n",
      "drawn1=  [0]\n",
      "1/1 [==============================] - 0s 53ms/step\n",
      "drawn2=  [1]\n",
      "1/1 [==============================] - 0s 55ms/step\n",
      "drawn3=  [2]\n",
      "1/1 [==============================] - 0s 48ms/step\n",
      "drawn4=  [3]\n",
      "1/1 [==============================] - 0s 48ms/step\n",
      "drawn5=  [4]\n",
      "1/1 [==============================] - 0s 56ms/step\n",
      "drawn6=  [7]\n",
      "1/1 [==============================] - 0s 51ms/step\n",
      "drawn7=  [5]\n",
      "1/1 [==============================] - 0s 48ms/step\n",
      "drawn8=  [8]\n",
      "1/1 [==============================] - 0s 40ms/step\n",
      "drawn9=  [9]\n"
     ]
    }
   ],
   "source": [
    "for i in range(10):\n",
    "  print(f'drawn{i}= ',newModel.predict(img_list[i]).argmax(axis=1))"
   ]
  },
  {
   "cell_type": "code",
   "execution_count": 37,
   "metadata": {
    "colab": {
     "base_uri": "https://localhost:8080/"
    },
    "id": "1wKkk8NTrTmZ",
    "outputId": "005ecd96-6b9e-4e82-f694-6045054809d4"
   },
   "outputs": [
    {
     "data": {
      "text/plain": [
       "50"
      ]
     },
     "execution_count": 37,
     "metadata": {},
     "output_type": "execute_result"
    }
   ],
   "source": [
    "len(img_list[4][0])"
   ]
  },
  {
   "cell_type": "code",
   "execution_count": null,
   "metadata": {
    "id": "4AKJ4XzPsxII"
   },
   "outputs": [],
   "source": []
  }
 ],
 "metadata": {
  "accelerator": "GPU",
  "colab": {
   "gpuType": "T4",
   "provenance": []
  },
  "kernelspec": {
   "display_name": "Python 3 (ipykernel)",
   "language": "python",
   "name": "python3"
  },
  "language_info": {
   "codemirror_mode": {
    "name": "ipython",
    "version": 3
   },
   "file_extension": ".py",
   "mimetype": "text/x-python",
   "name": "python",
   "nbconvert_exporter": "python",
   "pygments_lexer": "ipython3",
   "version": "3.9.16"
  }
 },
 "nbformat": 4,
 "nbformat_minor": 1
}
