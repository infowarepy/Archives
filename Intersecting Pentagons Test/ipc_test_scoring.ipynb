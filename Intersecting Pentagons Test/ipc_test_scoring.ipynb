{
 "cells": [
  {
   "cell_type": "code",
   "execution_count": 200,
   "id": "88e6c746",
   "metadata": {},
   "outputs": [],
   "source": [
    "import cv2\n",
    "import numpy as np"
   ]
  },
  {
   "cell_type": "code",
   "execution_count": 201,
   "id": "654082a9",
   "metadata": {},
   "outputs": [],
   "source": [
    "image=cv2.imread('images/drawing.png')"
   ]
  },
  {
   "cell_type": "code",
   "execution_count": 202,
   "id": "9a518a5f",
   "metadata": {},
   "outputs": [],
   "source": [
    "gray = cv2.cvtColor(image, cv2.COLOR_BGR2GRAY)\n",
    "blurred = cv2.GaussianBlur(gray, (5, 5), 0)\n",
    "edges = cv2.Canny(blurred, 50, 150)"
   ]
  },
  {
   "cell_type": "code",
   "execution_count": 205,
   "id": "93623e7b",
   "metadata": {},
   "outputs": [],
   "source": [
    "contours, _ = cv2.findContours(edges, cv2.CHAIN_APPROX_SIMPLE, cv2.CHAIN_APPROX_SIMPLE)\n",
    "for contour in contours:\n",
    "    epsilon = 0.05 * cv2.arcLength(contour, True)\n",
    "    approx = cv2.approxPolyDP(contour, epsilon, True)\n",
    "    \n",
    "    # Check if the contour has 5 vertices (a pentagon)\n",
    "    if len(approx) == 5:\n",
    "        cv2.drawContours(image, [approx], 0, (0, 255, 0), 2)"
   ]
  },
  {
   "cell_type": "code",
   "execution_count": 206,
   "id": "b49ac14c",
   "metadata": {},
   "outputs": [],
   "source": [
    "cv2.imshow('Pentagon Detection', image)\n",
    "cv2.waitKey(0)\n",
    "cv2.destroyAllWindows()"
   ]
  },
  {
   "cell_type": "code",
   "execution_count": 23,
   "id": "43cb22c5",
   "metadata": {},
   "outputs": [
    {
     "name": "stdout",
     "output_type": "stream",
     "text": [
      "pentagon\n"
     ]
    }
   ],
   "source": [
    "import cv2\n",
    "\n",
    "gray = cv2.cvtColor(image, cv2.COLOR_BGR2GRAY)\n",
    "\n",
    "ret,thresh = cv2.threshold(gray,127,255,1)\n",
    "\n",
    "contours,h = cv2.findContours(thresh,1,2)\n",
    "\n",
    "for cnt in contours:\n",
    "    approx = cv2.approxPolyDP(cnt,0.01*cv2.arcLength(cnt,True),True)\n",
    "    if len(approx)==5:\n",
    "        print(\"pentagon\")\n",
    "    elif len(approx)==4:\n",
    "        print(\"rectangle\")"
   ]
  },
  {
   "cell_type": "code",
   "execution_count": 24,
   "id": "dea28abd",
   "metadata": {},
   "outputs": [
    {
     "ename": "error",
     "evalue": "OpenCV(4.6.0) D:\\a\\opencv-python\\opencv-python\\opencv\\modules\\highgui\\src\\window.cpp:967: error: (-215:Assertion failed) size.width>0 && size.height>0 in function 'cv::imshow'\n",
     "output_type": "error",
     "traceback": [
      "\u001b[1;31m---------------------------------------------------------------------------\u001b[0m",
      "\u001b[1;31merror\u001b[0m                                     Traceback (most recent call last)",
      "Cell \u001b[1;32mIn[24], line 20\u001b[0m\n\u001b[0;32m     17\u001b[0m             cv2\u001b[38;5;241m.\u001b[39mdrawContours(img2, [approx], \u001b[38;5;241m0\u001b[39m, (\u001b[38;5;241m0\u001b[39m, \u001b[38;5;241m0\u001b[39m, \u001b[38;5;241m255\u001b[39m), \u001b[38;5;241m5\u001b[39m)\n\u001b[0;32m     19\u001b[0m \u001b[38;5;66;03m# Showing the image along with outlined arrow.\u001b[39;00m\n\u001b[1;32m---> 20\u001b[0m \u001b[43mcv2\u001b[49m\u001b[38;5;241;43m.\u001b[39;49m\u001b[43mimshow\u001b[49m\u001b[43m(\u001b[49m\u001b[38;5;124;43m'\u001b[39;49m\u001b[38;5;124;43mimage2\u001b[39;49m\u001b[38;5;124;43m'\u001b[39;49m\u001b[43m,\u001b[49m\u001b[43m \u001b[49m\u001b[43mimg2\u001b[49m\u001b[43m)\u001b[49m \n\u001b[0;32m     22\u001b[0m \u001b[38;5;66;03m# Exiting the window if 'q' is pressed on the keyboard.\u001b[39;00m\n\u001b[0;32m     23\u001b[0m \u001b[38;5;28;01mif\u001b[39;00m cv2\u001b[38;5;241m.\u001b[39mwaitKey(\u001b[38;5;241m0\u001b[39m) \u001b[38;5;241m&\u001b[39m \u001b[38;5;241m0xFF\u001b[39m \u001b[38;5;241m==\u001b[39m \u001b[38;5;28mord\u001b[39m(\u001b[38;5;124m'\u001b[39m\u001b[38;5;124mq\u001b[39m\u001b[38;5;124m'\u001b[39m): \n",
      "\u001b[1;31merror\u001b[0m: OpenCV(4.6.0) D:\\a\\opencv-python\\opencv-python\\opencv\\modules\\highgui\\src\\window.cpp:967: error: (-215:Assertion failed) size.width>0 && size.height>0 in function 'cv::imshow'\n"
     ]
    }
   ],
   "source": []
  },
  {
   "cell_type": "code",
   "execution_count": 66,
   "id": "ff941625",
   "metadata": {},
   "outputs": [],
   "source": [
    "\n",
    "pentagons = []\n",
    "\n",
    "for contour in contours:\n",
    "    # Approximate the contour to a polygon\n",
    "    epsilon = 0.04 * cv2.arcLength(contour, True)\n",
    "    approx = cv2.approxPolyDP(contour, epsilon, True)\n",
    "    \n",
    "    # Check if the contour has 5 sides (pentagon)\n",
    "    if len(approx) == 5:\n",
    "        pentagons.append(approx)\n"
   ]
  },
  {
   "cell_type": "code",
   "execution_count": 71,
   "id": "8c7f88b0",
   "metadata": {},
   "outputs": [],
   "source": [
    "edges = cv2.Canny(gray, 50, 150)\n",
    "\n",
    "# Perform Hough Line Transform\n",
    "lines = cv2.HoughLinesP(edges, 1, np.pi/180, threshold=10, minLineLength=50, maxLineGap=10)\n",
    "\n",
    "# Draw lines on the image\n",
    "if lines is not None:\n",
    "    # Draw lines on the image\n",
    "    for line in lines:\n",
    "        x1, y1, x2, y2 = line[0]\n",
    "        cv2.line(image, (x1, y1), (x2, y2), (0, 0, 255), 2)\n",
    "\n",
    "    # Display the image with lines\n",
    "    cv2.imshow('Lines', image)\n",
    "    cv2.waitKey(0)\n",
    "    cv2.destroyAllWindows()\n",
    "else:\n",
    "    print(\"No lines detected.\")"
   ]
  },
  {
   "cell_type": "code",
   "execution_count": 227,
   "id": "970df37a",
   "metadata": {},
   "outputs": [],
   "source": [
    "import cv2\n",
    "import numpy as np\n",
    "\n",
    "# Load the image\n",
    "image = cv2.imread('images/drawing.png')\n",
    "\n",
    "# Convert the image to grayscale\n",
    "gray = cv2.cvtColor(image, cv2.COLOR_BGR2GRAY)\n",
    "\n",
    "# Apply Canny edge detection\n",
    "edges = cv2.Canny(gray, 50, 150)\n",
    "\n",
    "# Perform Hough Line Transform\n",
    "lines = cv2.HoughLinesP(edges,3, np.pi/180, threshold=50, minLineLength=20, maxLineGap=50)\n",
    "\n",
    "# Check if lines are detected\n",
    "if lines is not None:\n",
    "    # Draw lines on the image\n",
    "    for line in lines:\n",
    "        x1, y1, x2, y2 = line[0]\n",
    "        cv2.line(image, (x1, y1), (x2, y2), (0, 0, 255), 2)\n",
    "\n",
    "    # Display the image with lines\n",
    "    cv2.imshow('Lines', image)\n",
    "    cv2.waitKey(0)\n",
    "    cv2.destroyAllWindows()\n",
    "else:\n",
    "    print(\"No lines detected.\")\n"
   ]
  },
  {
   "cell_type": "code",
   "execution_count": 75,
   "id": "05c727d2",
   "metadata": {},
   "outputs": [
    {
     "data": {
      "text/plain": [
       "26"
      ]
     },
     "execution_count": 75,
     "metadata": {},
     "output_type": "execute_result"
    }
   ],
   "source": [
    "len(lines)"
   ]
  },
  {
   "cell_type": "code",
   "execution_count": 115,
   "id": "22e21abf",
   "metadata": {},
   "outputs": [],
   "source": [
    "import cv2\n",
    "import numpy as np\n",
    "\n",
    "# Load the image\n",
    "image = cv2.imread('images/drawing.png')\n",
    "\n",
    "# Convert the image to grayscale\n",
    "gray = cv2.cvtColor(image, cv2.COLOR_BGR2GRAY)\n",
    "\n",
    "# Apply Canny edge detection\n",
    "edges = cv2.Canny(gray, 50, 150)\n",
    "\n",
    "# Perform Hough Line Transform\n",
    "lines = cv2.HoughLinesP(edges, 1, np.pi / 180, threshold=100, minLineLength=50, maxLineGap=10)\n",
    "\n",
    "# Calculate angles between lines\n",
    "angles = []\n",
    "for i in range(len(lines)):\n",
    "    for j in range(i + 1, len(lines)):\n",
    "        x1_i, y1_i, x2_i, y2_i = lines[i][0]\n",
    "        x1_j, y1_j, x2_j, y2_j = lines[j][0]\n",
    "        \n",
    "        # Calculate the angle using the arctan function\n",
    "        angle = np.arctan2((y2_i - y1_i), (x2_i - x1_i)) - np.arctan2((y2_j - y1_j), (x2_j - x1_j))\n",
    "        \n",
    "        # Convert the angle to degrees\n",
    "        angle = np.degrees(angle)\n",
    "        \n",
    "        # Ensure the angle is positive\n",
    "        if angle < 0:\n",
    "            angle += 180\n",
    "        \n",
    "        # Add the angle to the list\n",
    "        angles.append(angle)\n",
    "\n",
    "# Identify angles within a certain range\n",
    "desired_angles = []  # List to store desired angles\n",
    "angle_threshold = 10  # Threshold for angle difference\n",
    "\n",
    "for angle in angles:\n",
    "    # Check if the angle is within the desired range\n",
    "    if angle > 90 - angle_threshold and angle < 90 + angle_threshold:\n",
    "        desired_angles.append(angle)\n",
    "\n",
    "# Display the identified angles\n",
    "for angle in desired_angles:\n",
    "    print(f\"Identified angle: {angle}\")\n",
    "\n",
    "# Display the image with lines\n",
    "cv2.imshow('Lines', image)\n",
    "cv2.waitKey(0)\n",
    "cv2.destroyAllWindows()\n"
   ]
  },
  {
   "cell_type": "code",
   "execution_count": 229,
   "id": "35005aff",
   "metadata": {},
   "outputs": [
    {
     "name": "stdout",
     "output_type": "stream",
     "text": [
      "(3, 6)\n"
     ]
    }
   ],
   "source": [
    "arr = np.array([1,2,5,4,6,8,3,2,1,4,5,7,8,562, 1, 2, 4,5]) \n",
    "print(arr.reshape(3,-1). shape)"
   ]
  },
  {
   "cell_type": "code",
   "execution_count": 241,
   "id": "46c77f7a",
   "metadata": {},
   "outputs": [
    {
     "name": "stdout",
     "output_type": "stream",
     "text": [
      "0    A B C\n",
      "1    A D E\n",
      "2    C D F\n",
      "Name: P3, dtype: object\n"
     ]
    }
   ],
   "source": [
    "import pandas as pd\n",
    "df = pd.DataFrame({'P1':[18, 20, 30], 'P2':[[\"A\", \"B\", \"C\"],[\"A\", \"D\", \"E\"],[\"C\", \"D\", \"F\"]]})\n",
    "df['P3'] = df [\"P2\"].apply(lambda x:\" \".join([\"_\".join(i.split(\" \")) for i in x]))\n",
    "print(df['P3'])"
   ]
  },
  {
   "cell_type": "code",
   "execution_count": 242,
   "id": "cd0bc415",
   "metadata": {},
   "outputs": [
    {
     "name": "stdout",
     "output_type": "stream",
     "text": [
      "(2, 2)\n",
      "(3, 2)\n"
     ]
    }
   ],
   "source": [
    "import pandas as pd\n",
    "df = pd.DataFrame([[15, 12],\n",
    "                    [33, 54],\n",
    "                    [10, 32]],\n",
    "                    index = ['one', 'two', 'three'], \n",
    "                    columns = ['col1', 'col2'])\n",
    "print(df.filter(regex = 'e$', axis= 0).shape)\n",
    "print(df.filter(regex = '^c', axis = 1). shape)"
   ]
  },
  {
   "cell_type": "code",
   "execution_count": 244,
   "id": "5fdffa88",
   "metadata": {},
   "outputs": [
    {
     "name": "stdout",
     "output_type": "stream",
     "text": [
      "[[  0   1   2   3]\n",
      " [ 40  50   6   7]\n",
      " [  8  90 100  11]]\n"
     ]
    }
   ],
   "source": [
    "import numpy as np\n",
    "mat1 = np.array([[ 0, 1,2,3],\n",
    "                 [4,5,6,7],\n",
    "                 [8,9,10,11]])\n",
    "\n",
    "indA= np.array([[2,2], [1, 1]])\n",
    "indB = np.array([[2,1], [1,0]])\n",
    "mat1[indA, indB] = np.array([[100, 90],[50, 40]])\n",
    "print(mat1)"
   ]
  },
  {
   "cell_type": "code",
   "execution_count": 245,
   "id": "2f0f5fc0",
   "metadata": {},
   "outputs": [
    {
     "name": "stdout",
     "output_type": "stream",
     "text": [
      "   D\n",
      "0  0\n",
      "1  1\n",
      "2  5\n"
     ]
    }
   ],
   "source": [
    "import pandas as pd\n",
    "df = pd.DataFrame([[np.nan, 2, np.nan, 0],\n",
    "                    [3, 4, np.nan, 1],\n",
    "                    [np.nan, np.nan, np.nan, 5]], \n",
    "                    columns=list('ABCD'))\n",
    "df.cumsum(axis=1)\n",
    "df.dropna (axis = 1, how = 'all')\n",
    "print(df.dropna (axis = 1, how='any'))"
   ]
  },
  {
   "cell_type": "code",
   "execution_count": null,
   "id": "82eb9647",
   "metadata": {},
   "outputs": [],
   "source": []
  }
 ],
 "metadata": {
  "kernelspec": {
   "display_name": "Python 3 (ipykernel)",
   "language": "python",
   "name": "python3"
  },
  "language_info": {
   "codemirror_mode": {
    "name": "ipython",
    "version": 3
   },
   "file_extension": ".py",
   "mimetype": "text/x-python",
   "name": "python",
   "nbconvert_exporter": "python",
   "pygments_lexer": "ipython3",
   "version": "3.9.16"
  }
 },
 "nbformat": 4,
 "nbformat_minor": 5
}
