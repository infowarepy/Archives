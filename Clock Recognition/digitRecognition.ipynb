{
 "cells": [
  {
   "cell_type": "code",
   "execution_count": 36,
   "id": "5efb05e7",
   "metadata": {},
   "outputs": [],
   "source": [
    "import tensorflow\n",
    "from tensorflow import keras\n",
    "from tensorflow.keras import Sequential\n",
    "from tensorflow.keras.layers import Dense,Flatten, Conv2D, AveragePooling2D, BatchNormalization, Dropout"
   ]
  },
  {
   "cell_type": "code",
   "execution_count": 37,
   "id": "e77bc83e",
   "metadata": {},
   "outputs": [],
   "source": [
    "#Automatic train test split while loading data\n",
    "(X_train,y_train),(X_test,y_test) = keras.datasets.mnist.load_data()"
   ]
  },
  {
   "cell_type": "code",
   "execution_count": 38,
   "id": "be3b5e5c",
   "metadata": {},
   "outputs": [],
   "source": [
    "#normalizing values of pixels\n",
    "X_train = X_train/255\n",
    "X_test = X_test/255"
   ]
  },
  {
   "cell_type": "code",
   "execution_count": 39,
   "id": "5fd1a52d",
   "metadata": {},
   "outputs": [],
   "source": [
    "# LENET CNN architecture with batch normalization and dropout layer to reduce overfitting\n",
    "model = Sequential()\n",
    "\n",
    "model.add(Conv2D(6,kernel_size=(5,5),padding='valid',activation='tanh',input_shape=(28,28,1)))\n",
    "model.add(BatchNormalization())\n",
    "model.add(AveragePooling2D(pool_size=(2,2),strides=2,padding='valid'))\n",
    "\n",
    "model.add(Conv2D(16,kernel_size=(5,5),padding='valid',activation='tanh'))\n",
    "model.add(BatchNormalization())\n",
    "model.add(AveragePooling2D(pool_size=(2,2),strides=2,padding='valid'))\n",
    "\n",
    "model.add(Flatten())\n",
    "model.add(Dense(128,activation='relu'))\n",
    "model.add(Dropout(0.1))\n",
    "model.add(Dense(64,activation='relu'))\n",
    "model.add(Dropout(0.1))\n",
    "model.add(Dense(32,activation='relu'))\n",
    "model.add(Dropout(0.1))\n",
    "model.add(Dense(10,activation='softmax'))"
   ]
  },
  {
   "cell_type": "code",
   "execution_count": 40,
   "id": "8bd6b502",
   "metadata": {},
   "outputs": [
    {
     "name": "stdout",
     "output_type": "stream",
     "text": [
      "Model: \"sequential_3\"\n",
      "_________________________________________________________________\n",
      " Layer (type)                Output Shape              Param #   \n",
      "=================================================================\n",
      " conv2d_6 (Conv2D)           (None, 24, 24, 6)         156       \n",
      "                                                                 \n",
      " batch_normalization_6 (Batc  (None, 24, 24, 6)        24        \n",
      " hNormalization)                                                 \n",
      "                                                                 \n",
      " average_pooling2d_6 (Averag  (None, 12, 12, 6)        0         \n",
      " ePooling2D)                                                     \n",
      "                                                                 \n",
      " conv2d_7 (Conv2D)           (None, 8, 8, 16)          2416      \n",
      "                                                                 \n",
      " batch_normalization_7 (Batc  (None, 8, 8, 16)         64        \n",
      " hNormalization)                                                 \n",
      "                                                                 \n",
      " average_pooling2d_7 (Averag  (None, 4, 4, 16)         0         \n",
      " ePooling2D)                                                     \n",
      "                                                                 \n",
      " flatten_3 (Flatten)         (None, 256)               0         \n",
      "                                                                 \n",
      " dense_12 (Dense)            (None, 128)               32896     \n",
      "                                                                 \n",
      " dropout_3 (Dropout)         (None, 128)               0         \n",
      "                                                                 \n",
      " dense_13 (Dense)            (None, 64)                8256      \n",
      "                                                                 \n",
      " dropout_4 (Dropout)         (None, 64)                0         \n",
      "                                                                 \n",
      " dense_14 (Dense)            (None, 32)                2080      \n",
      "                                                                 \n",
      " dropout_5 (Dropout)         (None, 32)                0         \n",
      "                                                                 \n",
      " dense_15 (Dense)            (None, 10)                330       \n",
      "                                                                 \n",
      "=================================================================\n",
      "Total params: 46,222\n",
      "Trainable params: 46,178\n",
      "Non-trainable params: 44\n",
      "_________________________________________________________________\n"
     ]
    }
   ],
   "source": [
    "model.summary()"
   ]
  },
  {
   "cell_type": "code",
   "execution_count": 41,
   "id": "b009fc73",
   "metadata": {},
   "outputs": [],
   "source": [
    "model.compile(loss='sparse_categorical_crossentropy',optimizer='Adam',metrics=['accuracy'])"
   ]
  },
  {
   "cell_type": "code",
   "execution_count": 42,
   "id": "234a6d74",
   "metadata": {},
   "outputs": [
    {
     "name": "stdout",
     "output_type": "stream",
     "text": [
      "Epoch 1/20\n",
      "1500/1500 [==============================] - 30s 18ms/step - loss: 0.3037 - accuracy: 0.9072 - val_loss: 0.0931 - val_accuracy: 0.9709\n",
      "Epoch 2/20\n",
      "1500/1500 [==============================] - 27s 18ms/step - loss: 0.1101 - accuracy: 0.9679 - val_loss: 0.0950 - val_accuracy: 0.9722\n",
      "Epoch 3/20\n",
      "1500/1500 [==============================] - 27s 18ms/step - loss: 0.0820 - accuracy: 0.9770 - val_loss: 0.0568 - val_accuracy: 0.9836\n",
      "Epoch 4/20\n",
      "1500/1500 [==============================] - 26s 17ms/step - loss: 0.0641 - accuracy: 0.9819 - val_loss: 0.0542 - val_accuracy: 0.9838\n",
      "Epoch 5/20\n",
      "1500/1500 [==============================] - 26s 18ms/step - loss: 0.0536 - accuracy: 0.9845 - val_loss: 0.0583 - val_accuracy: 0.9845\n",
      "Epoch 6/20\n",
      "1500/1500 [==============================] - 26s 17ms/step - loss: 0.0483 - accuracy: 0.9859 - val_loss: 0.0510 - val_accuracy: 0.9867\n",
      "Epoch 7/20\n",
      "1500/1500 [==============================] - 27s 18ms/step - loss: 0.0401 - accuracy: 0.9881 - val_loss: 0.0542 - val_accuracy: 0.9848\n",
      "Epoch 8/20\n",
      "1500/1500 [==============================] - 27s 18ms/step - loss: 0.0370 - accuracy: 0.9891 - val_loss: 0.0480 - val_accuracy: 0.9883\n",
      "Epoch 9/20\n",
      "1500/1500 [==============================] - 22s 15ms/step - loss: 0.0307 - accuracy: 0.9903 - val_loss: 0.0514 - val_accuracy: 0.9872\n",
      "Epoch 10/20\n",
      "1500/1500 [==============================] - 21s 14ms/step - loss: 0.0307 - accuracy: 0.9912 - val_loss: 0.0565 - val_accuracy: 0.9851\n",
      "Epoch 11/20\n",
      "1500/1500 [==============================] - 27s 18ms/step - loss: 0.0290 - accuracy: 0.9913 - val_loss: 0.0529 - val_accuracy: 0.9874\n",
      "Epoch 12/20\n",
      "1500/1500 [==============================] - 24s 16ms/step - loss: 0.0252 - accuracy: 0.9921 - val_loss: 0.0493 - val_accuracy: 0.9887\n",
      "Epoch 13/20\n",
      "1500/1500 [==============================] - 19s 13ms/step - loss: 0.0250 - accuracy: 0.9928 - val_loss: 0.0555 - val_accuracy: 0.9876\n",
      "Epoch 14/20\n",
      "1500/1500 [==============================] - 23s 15ms/step - loss: 0.0228 - accuracy: 0.9929 - val_loss: 0.0619 - val_accuracy: 0.9852\n",
      "Epoch 15/20\n",
      "1500/1500 [==============================] - 25s 17ms/step - loss: 0.0220 - accuracy: 0.9931 - val_loss: 0.0540 - val_accuracy: 0.9881\n",
      "Epoch 16/20\n",
      "1500/1500 [==============================] - 25s 17ms/step - loss: 0.0193 - accuracy: 0.9940 - val_loss: 0.0551 - val_accuracy: 0.9886\n",
      "Epoch 17/20\n",
      "1500/1500 [==============================] - 26s 17ms/step - loss: 0.0198 - accuracy: 0.9936 - val_loss: 0.0550 - val_accuracy: 0.9881\n",
      "Epoch 18/20\n",
      "1500/1500 [==============================] - 27s 18ms/step - loss: 0.0152 - accuracy: 0.9954 - val_loss: 0.0584 - val_accuracy: 0.9888\n",
      "Epoch 19/20\n",
      "1500/1500 [==============================] - 26s 17ms/step - loss: 0.0191 - accuracy: 0.9942 - val_loss: 0.0689 - val_accuracy: 0.9857\n",
      "Epoch 20/20\n",
      "1500/1500 [==============================] - 27s 18ms/step - loss: 0.0183 - accuracy: 0.9942 - val_loss: 0.0617 - val_accuracy: 0.9875\n"
     ]
    }
   ],
   "source": [
    "#training with 20 epochs\n",
    "history=model.fit(X_train,y_train,epochs=20,validation_split=0.2)"
   ]
  },
  {
   "cell_type": "code",
   "execution_count": 43,
   "id": "d900a827",
   "metadata": {},
   "outputs": [
    {
     "name": "stdout",
     "output_type": "stream",
     "text": [
      "313/313 [==============================] - 8s 10ms/step\n"
     ]
    }
   ],
   "source": [
    "y_prob = model.predict(X_test)"
   ]
  },
  {
   "cell_type": "code",
   "execution_count": 44,
   "id": "19c05ed6",
   "metadata": {},
   "outputs": [],
   "source": [
    "y_pred = y_prob.argmax(axis=1)"
   ]
  },
  {
   "cell_type": "code",
   "execution_count": 45,
   "id": "d84caed9",
   "metadata": {},
   "outputs": [
    {
     "data": {
      "text/plain": [
       "0.989"
      ]
     },
     "execution_count": 45,
     "metadata": {},
     "output_type": "execute_result"
    }
   ],
   "source": [
    "from sklearn.metrics import accuracy_score\n",
    "accuracy_score(y_test,y_pred)"
   ]
  },
  {
   "cell_type": "code",
   "execution_count": 46,
   "id": "9fb5e644",
   "metadata": {},
   "outputs": [],
   "source": [
    "import matplotlib.pyplot as plt"
   ]
  },
  {
   "cell_type": "code",
   "execution_count": 47,
   "id": "328a9370",
   "metadata": {},
   "outputs": [
    {
     "data": {
      "text/plain": [
       "[<matplotlib.lines.Line2D at 0x23442226670>]"
      ]
     },
     "execution_count": 47,
     "metadata": {},
     "output_type": "execute_result"
    },
    {
     "data": {
      "image/png": "[encoded data removed]",
      "text/plain": [
       "<Figure size 640x480 with 1 Axes>"
      ]
     },
     "metadata": {},
     "output_type": "display_data"
    }
   ],
   "source": [
    "plt.plot(history.history['loss'])\n",
    "plt.plot(history.history['val_loss'])"
   ]
  },
  {
   "cell_type": "code",
   "execution_count": 48,
   "id": "73496d8f",
   "metadata": {},
   "outputs": [
    {
     "data": {
      "text/plain": [
       "[<matplotlib.lines.Line2D at 0x234421baf70>]"
      ]
     },
     "execution_count": 48,
     "metadata": {},
     "output_type": "execute_result"
    },
    {
     "data": {
      "image/png": "[encoded data removed]",
      "text/plain": [
       "<Figure size 640x480 with 1 Axes>"
      ]
     },
     "metadata": {},
     "output_type": "display_data"
    }
   ],
   "source": [
    "plt.plot(history.history['accuracy'])\n",
    "plt.plot(history.history['val_accuracy'])"
   ]
  },
  {
   "cell_type": "code",
   "execution_count": 112,
   "id": "029f2460",
   "metadata": {},
   "outputs": [
    {
     "name": "stdout",
     "output_type": "stream",
     "text": [
      "1/1 [==============================] - 0s 30ms/step\n"
     ]
    },
    {
     "data": {
      "text/plain": [
       "array([3], dtype=int64)"
      ]
     },
     "execution_count": 112,
     "metadata": {},
     "output_type": "execute_result"
    },
    {
     "data": {
      "image/png": "[encoded data removed]",
      "text/plain": [
       "<Figure size 640x480 with 1 Axes>"
      ]
     },
     "metadata": {},
     "output_type": "display_data"
    }
   ],
   "source": [
    "# loading our drawn image and preprocessing to use imageimport cv2\n",
    "image = cv2.imread('images/6.jpg', cv2.IMREAD_GRAYSCALE)\n",
    "plt.imshow(image)\n",
    "image = cv2.resize(image, (28, 28))\n",
    "image = image.astype('float32') / 255.0\n",
    "image = image.reshape((1, 28, 28))\n",
    "model.predict(image).argmax(axis=1)"
   ]
  },
  {
   "cell_type": "code",
   "execution_count": 113,
   "id": "46d8dab0",
   "metadata": {},
   "outputs": [
    {
     "name": "stdout",
     "output_type": "stream",
     "text": [
      "1/1 [==============================] - 0s 50ms/step\n"
     ]
    },
    {
     "data": {
      "text/plain": [
       "array([3], dtype=int64)"
      ]
     },
     "execution_count": 113,
     "metadata": {},
     "output_type": "execute_result"
    }
   ],
   "source": [
    "model.predict(image).argmax(axis=1)"
   ]
  },
  {
   "cell_type": "code",
   "execution_count": 114,
   "id": "f31e97d0",
   "metadata": {},
   "outputs": [],
   "source": [
    "# from tensorflow.keras.models import load_model"
   ]
  },
  {
   "cell_type": "code",
   "execution_count": 91,
   "id": "d9f4785d",
   "metadata": {},
   "outputs": [],
   "source": [
    "# model.save('models/digitRecognition.h5')"
   ]
  },
  {
   "cell_type": "code",
   "execution_count": null,
   "id": "4bbec240",
   "metadata": {},
   "outputs": [],
   "source": []
  }
 ],
 "metadata": {
  "kernelspec": {
   "display_name": "Python 3 (ipykernel)",
   "language": "python",
   "name": "python3"
  },
  "language_info": {
   "codemirror_mode": {
    "name": "ipython",
    "version": 3
   },
   "file_extension": ".py",
   "mimetype": "text/x-python",
   "name": "python",
   "nbconvert_exporter": "python",
   "pygments_lexer": "ipython3",
   "version": "3.9.16"
  }
 },
 "nbformat": 4,
 "nbformat_minor": 5
}
