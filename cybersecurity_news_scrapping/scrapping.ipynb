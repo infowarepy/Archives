{
 "cells": [
  {
   "cell_type": "code",
   "execution_count": 87,
   "id": "a33007e3",
   "metadata": {},
   "outputs": [],
   "source": [
    "from googlesearch import search\n",
    "from bs4 import BeautifulSoup\n",
    "\n",
    "import requests\n",
    "API_KEY='01a425686ae74b939601e6adf09e9b7b'"
   ]
  },
  {
   "cell_type": "code",
   "execution_count": 102,
   "id": "225a8696",
   "metadata": {},
   "outputs": [],
   "source": [
    "# url = ('https://newsapi.org/v2/everything?'\n",
    "#        'q=india&'\n",
    "#        'from=2023-10-23&'\n",
    "#        'sortBy=popularity&'\n",
    "#        'apiKey=01a425686ae74b939601e6adf09e9b7b')\n",
    "url=f'https://newsapi.org/v2/everything?q=cybersecurity-in-india&from=2023-10-22&sortBy=popularity&apiKey={API_KEY}'\n",
    "\n",
    "response = requests.get(url)"
   ]
  },
  {
   "cell_type": "code",
   "execution_count": 103,
   "id": "db617d1c",
   "metadata": {},
   "outputs": [
    {
     "data": {
      "text/plain": [
       "{'status': 'ok',\n",
       " 'totalResults': 5,\n",
       " 'articles': [{'source': {'id': None, 'name': 'Securityaffairs.com'},\n",
       "   'author': 'Pierluigi Paganini',\n",
       "   'title': 'Security Affairs newsletter Round 442 by Pierluigi Paganini – INTERNATIONAL EDITION',\n",
       "   'description': 'A new round of the weekly SecurityAffairs newsletter arrived! Every week the best security articles from Security Affairs are free for you in your email box. Enjoy a new round of the weekly SecurityAffairs newsletter, including the international press. A thre…',\n",
       "   'url': 'https://securityaffairs.com/152822/breaking-news/security-affairs-newsletter-round-442-by-pierluigi-paganini-international-edition.html',\n",
       "   'urlToImage': 'https://securityaffairs.com/wp-content/uploads/2015/03/newsletter.png',\n",
       "   'publishedAt': '2023-10-22T09:09:03Z',\n",
       "   'content': \"Security Affairs newsletter Round 442 by Pierluigi Paganini INTERNATIONAL EDITION\\r\\n\\xa0|\\xa0A threat actor is selling access to Facebook and Instagram's Police Portal\\r\\n\\xa0|\\xa0Threat actors breached Okta suppor… [+15547 chars]\"},\n",
       "  {'source': {'id': None, 'name': 'Globalsecurity.org'},\n",
       "   'author': 'John Pike',\n",
       "   'title': 'U.S.-EU Summit Joint Statement',\n",
       "   'description': 'No description',\n",
       "   'url': 'https://www.globalsecurity.org/military/library/news/2023/10/mil-231020-whitehouse01.htm',\n",
       "   'urlToImage': None,\n",
       "   'publishedAt': '2023-10-22T11:13:54Z',\n",
       "   'content': '<li>The United States and the European Union and its Member States, representing nearly 800 million citizens, united by our values and bound together by the most dynamic economic relationship on eart… [+26228 chars]'},\n",
       "  {'source': {'id': None, 'name': 'BusinessLine'},\n",
       "   'author': 'Sajja Praveen Chowdary',\n",
       "   'title': 'Cyber insurance critical for small, medium enterprises',\n",
       "   'description': \"SMEs/MSMEs are backbone of India's economy, but face cyber risks. Cyber insurance provides financial safety net, covering costs of data breaches, ransomware attacks, etc. It also helps with legal expenses, operational disruptions, and reputation management. C…\",\n",
       "   'url': 'https://www.thehindubusinessline.com/portfolio/personal-finance/cyber-insurance-critical-for-small-medium-enterprises/article67448995.ece',\n",
       "   'urlToImage': 'https://bl-i.thgim.com/public/news/ll22u8/article67449004.ece/alternates/LANDSCAPE_1200/Moneywise.jpg',\n",
       "   'publishedAt': '2023-10-22T10:13:30Z',\n",
       "   'content': 'Indias economic progress today heavily banks on the Small and Medium Enterprises (SMEs) and Micro, Small and Medium Enterprises (MSMEs) that are the backbone of the business ecosystem. And, reasonabl… [+4131 chars]'},\n",
       "  {'source': {'id': 'the-times-of-india', 'name': 'The Times of India'},\n",
       "   'author': 'PTI',\n",
       "   'title': 'Cyber experts express concern about data security in India',\n",
       "   'description': '\\u200b\\u200bIndian technologists and business executives will have to collaborate, cooperate and create a comprehensive ecosystem to tackle tech-driven threats, the experts said on the sidelines of Singapore Cyber Week - 2023 held from October 17-19.',\n",
       "   'url': 'https://economictimes.indiatimes.com/tech/technology/cyber-experts-express-concern-about-data-security-in-india/articleshow/104626098.cms',\n",
       "   'urlToImage': 'https://img.etimg.com/thumb/msid-104626212,width-1200,height-630,imgsize-22580,overlay-ettech/photo.jpg',\n",
       "   'publishedAt': '2023-10-22T09:36:49Z',\n",
       "   'content': 'Digital transformation and development of advanced technologies are progressing at full pace in India but cyber experts have expressed concern about the security of the sheer size of data that the co… [+6272 chars]'},\n",
       "  {'source': {'id': 'the-times-of-india', 'name': 'The Times of India'},\n",
       "   'author': 'Debleena Majumdar',\n",
       "   'title': 'Understaffing in cybersecurity roles and ways to stem skill gaps',\n",
       "   'description': 'A report by ISACA reveals that while cyber threats are increasing, there is a shortage of cybersecurity staff. The global data shows that 59% of cybersecurity leaders feel their teams are understaffed, with India having a lower percentage of 40%. However, 63%…',\n",
       "   'url': 'https://economictimes.indiatimes.com/jobs/mid-career/understaffing-in-cybersecurity-roles-and-ways-to-stem-skill-gaps/articleshow/104613504.cms',\n",
       "   'urlToImage': 'https://img.etimg.com/thumb/msid-104613505,width-1200,height-630,imgsize-81596,overlay-etcareers/photo.jpg',\n",
       "   'publishedAt': '2023-10-22T03:30:00Z',\n",
       "   'content': 'From OTT serials that focus on unravelling fraudsters to real-life cyber crime attacks, the world of cybersecurity is increasingly taking centre stage in our lives. A report by ISACA a global associa… [+4012 chars]'}]}"
      ]
     },
     "execution_count": 103,
     "metadata": {},
     "output_type": "execute_result"
    }
   ],
   "source": [
    "response.json()"
   ]
  },
  {
   "cell_type": "code",
   "execution_count": null,
   "id": "16e366fa",
   "metadata": {},
   "outputs": [],
   "source": []
  },
  {
   "cell_type": "code",
   "execution_count": null,
   "id": "bee7c94b",
   "metadata": {},
   "outputs": [],
   "source": []
  },
  {
   "cell_type": "code",
   "execution_count": null,
   "id": "a524295e",
   "metadata": {},
   "outputs": [],
   "source": []
  },
  {
   "cell_type": "code",
   "execution_count": null,
   "id": "88555cfb",
   "metadata": {},
   "outputs": [],
   "source": []
  },
  {
   "cell_type": "code",
   "execution_count": null,
   "id": "39b899be",
   "metadata": {},
   "outputs": [],
   "source": []
  },
  {
   "cell_type": "code",
   "execution_count": null,
   "id": "0e333925",
   "metadata": {},
   "outputs": [],
   "source": []
  },
  {
   "cell_type": "code",
   "execution_count": null,
   "id": "7522a6e8",
   "metadata": {},
   "outputs": [],
   "source": []
  },
  {
   "cell_type": "code",
   "execution_count": null,
   "id": "c251933a",
   "metadata": {},
   "outputs": [],
   "source": []
  },
  {
   "cell_type": "code",
   "execution_count": 53,
   "id": "cbb9f601",
   "metadata": {},
   "outputs": [],
   "source": [
    "query='cybersecurity policy/strategy news in singapore'"
   ]
  },
  {
   "cell_type": "code",
   "execution_count": 64,
   "id": "f50e04f0",
   "metadata": {
    "scrolled": true
   },
   "outputs": [
    {
     "name": "stdout",
     "output_type": "stream",
     "text": [
      "17\r"
     ]
    }
   ],
   "source": [
    "news_links=[]\n",
    "c=0\n",
    "for link in search(query, tld=\"co.in\", num=1, stop=40, pause=1):\n",
    "    news_links.append(link)\n",
    "    c=c+1\n",
    "    print(c,end='\\r')"
   ]
  },
  {
   "cell_type": "code",
   "execution_count": 67,
   "id": "cd423c26",
   "metadata": {},
   "outputs": [
    {
     "data": {
      "text/plain": [
       "['https://www.csa.gov.sg/Tips-Resource/publications/2021/singapore-cybersecurity-strategy-2021',\n",
       " 'https://www.channelnewsasia.com/singapore/singapore-proactive-stance-cyber-threats-updated-national-strategy-2223536',\n",
       " 'https://www.asiainsurancereview.com/Magazine/ReadMagazineArticle?aid=38644',\n",
       " 'https://sandpipercomms.com/corporate-communications/singapore-refreshes-cybersecurity-strategy-to-build-a-cyber-resilient-nation/',\n",
       " 'https://ciosea.economictimes.indiatimes.com/news/security/huawei-awarded-cyber-security-agency-of-singapores-cyber-trust-mark-certification/104637697',\n",
       " 'https://www.trade.gov/market-intelligence/singapore-cybersecurity-market',\n",
       " 'https://www.straitstimes.com/tech/tech-news/new-govt-cyber-security-tool-being-developed-to-protect-singaporeans-phones-from',\n",
       " 'https://ciosea.economictimes.indiatimes.com/news/internet/singapores-cybersecurity-outlook-cyberattacks-threats-laws-more/92223424',\n",
       " 'https://www.unodc.org/e4j/data/_university_uni_/singapores_cybersecurity_strategy.html?lng=en',\n",
       " 'https://www.rsis.edu.sg/wp-content/uploads/2016/12/PR170217_Cybersecurity-in-Singapore.pdf',\n",
       " 'https://www.bankinfosecurity.com/ot-security-national-concern-in-singapore-a-17661',\n",
       " 'https://channelasia.tech/article/691852/singapore-steps-up-stance-against-cyber-threats-under-new-strategy/',\n",
       " 'https://ccdcoe.org/uploads/2018/10/Singapore_Cybersecurity_Strategy_2021.pdf',\n",
       " 'https://www.cisa.gov/news-events/news/cisa-us-and-international-partners-announce-updated-secure-design-principles-joint-guide',\n",
       " 'https://sg.usembassy.gov/fact-sheet-biden-%E2%81%A0harris-administration-publishes-the-national-cybersecurity-strategy-implementation-plan/',\n",
       " 'https://www.mas.gov.sg/who-we-are/mas-advisory-panels-and-committees/cyber-security-advisory-panel',\n",
       " 'https://asean.org/wp-content/uploads/2022/02/01-ASEAN-Cybersecurity-Cooperation-Paper-2021-2025_final-23-0122.pdf']"
      ]
     },
     "execution_count": 67,
     "metadata": {},
     "output_type": "execute_result"
    }
   ],
   "source": [
    "news_links"
   ]
  },
  {
   "cell_type": "code",
   "execution_count": 61,
   "id": "64aaa9dd",
   "metadata": {},
   "outputs": [],
   "source": [
    "newQuery=query.replace(' ','+')\n",
    "url = f\"https://www.google.com/search?q={newQuery}\"\n",
    "headers = {\n",
    "    \"User-Agent\": \"Mozilla/5.0 (Windows NT 10.0; Win64; x64) AppleWebKit/537.36 (KHTML, like Gecko) Chrome/99.0.1234.56 Safari/537.36 Edg/99.0.123.4\"\n",
    "}\n",
    "response = requests.get(url, headers=headers)\n",
    "blogs=[]"
   ]
  },
  {
   "cell_type": "code",
   "execution_count": 62,
   "id": "eb5aee76",
   "metadata": {},
   "outputs": [
    {
     "data": {
      "text/plain": [
       "<Response [200]>"
      ]
     },
     "execution_count": 62,
     "metadata": {},
     "output_type": "execute_result"
    }
   ],
   "source": [
    "response"
   ]
  },
  {
   "cell_type": "code",
   "execution_count": 69,
   "id": "cabc929b",
   "metadata": {},
   "outputs": [
    {
     "ename": "ValueError",
     "evalue": "Sample larger than population or is negative",
     "output_type": "error",
     "traceback": [
      "\u001b[1;31m---------------------------------------------------------------------------\u001b[0m",
      "\u001b[1;31mValueError\u001b[0m                                Traceback (most recent call last)",
      "Cell \u001b[1;32mIn[69], line 15\u001b[0m\n\u001b[0;32m     11\u001b[0m     news_articles\u001b[38;5;241m.\u001b[39mappend({\u001b[38;5;124m'\u001b[39m\u001b[38;5;124mtitle\u001b[39m\u001b[38;5;124m'\u001b[39m:response\u001b[38;5;241m.\u001b[39mjson()[\u001b[38;5;124m'\u001b[39m\u001b[38;5;124marticles\u001b[39m\u001b[38;5;124m'\u001b[39m][i][\u001b[38;5;124m'\u001b[39m\u001b[38;5;124mtitle\u001b[39m\u001b[38;5;124m'\u001b[39m],\u001b[38;5;124m'\u001b[39m\u001b[38;5;124murl\u001b[39m\u001b[38;5;124m'\u001b[39m:response\u001b[38;5;241m.\u001b[39mjson()[\u001b[38;5;124m'\u001b[39m\u001b[38;5;124marticles\u001b[39m\u001b[38;5;124m'\u001b[39m][i][\u001b[38;5;124m'\u001b[39m\u001b[38;5;124murl\u001b[39m\u001b[38;5;124m'\u001b[39m]})\n\u001b[0;32m     13\u001b[0m   \u001b[38;5;28;01mreturn\u001b[39;00m news_articles\n\u001b[1;32m---> 15\u001b[0m \u001b[38;5;28mprint\u001b[39m(\u001b[43mgetTechNews\u001b[49m\u001b[43m(\u001b[49m\u001b[43m)\u001b[49m)\n",
      "Cell \u001b[1;32mIn[69], line 8\u001b[0m, in \u001b[0;36mgetTechNews\u001b[1;34m()\u001b[0m\n\u001b[0;32m      7\u001b[0m \u001b[38;5;28;01mdef\u001b[39;00m \u001b[38;5;21mgetTechNews\u001b[39m():\n\u001b[1;32m----> 8\u001b[0m   res\u001b[38;5;241m=\u001b[39m\u001b[43mrandom\u001b[49m\u001b[38;5;241;43m.\u001b[39;49m\u001b[43msample\u001b[49m\u001b[43m(\u001b[49m\u001b[38;5;28;43mrange\u001b[39;49m\u001b[43m(\u001b[49m\u001b[38;5;28;43mlen\u001b[39;49m\u001b[43m(\u001b[49m\u001b[43mresponse\u001b[49m\u001b[38;5;241;43m.\u001b[39;49m\u001b[43mjson\u001b[49m\u001b[43m(\u001b[49m\u001b[43m)\u001b[49m\u001b[43m[\u001b[49m\u001b[38;5;124;43m'\u001b[39;49m\u001b[38;5;124;43marticles\u001b[39;49m\u001b[38;5;124;43m'\u001b[39;49m\u001b[43m]\u001b[49m\u001b[43m)\u001b[49m\u001b[43m)\u001b[49m\u001b[43m,\u001b[49m\u001b[38;5;241;43m5\u001b[39;49m\u001b[43m)\u001b[49m\n\u001b[0;32m      9\u001b[0m   news_articles\u001b[38;5;241m=\u001b[39m[]\n\u001b[0;32m     10\u001b[0m   \u001b[38;5;28;01mfor\u001b[39;00m i \u001b[38;5;129;01min\u001b[39;00m res:\n",
      "File \u001b[1;32m~\\anaconda3\\lib\\random.py:449\u001b[0m, in \u001b[0;36mRandom.sample\u001b[1;34m(self, population, k, counts)\u001b[0m\n\u001b[0;32m    447\u001b[0m randbelow \u001b[38;5;241m=\u001b[39m \u001b[38;5;28mself\u001b[39m\u001b[38;5;241m.\u001b[39m_randbelow\n\u001b[0;32m    448\u001b[0m \u001b[38;5;28;01mif\u001b[39;00m \u001b[38;5;129;01mnot\u001b[39;00m \u001b[38;5;241m0\u001b[39m \u001b[38;5;241m<\u001b[39m\u001b[38;5;241m=\u001b[39m k \u001b[38;5;241m<\u001b[39m\u001b[38;5;241m=\u001b[39m n:\n\u001b[1;32m--> 449\u001b[0m     \u001b[38;5;28;01mraise\u001b[39;00m \u001b[38;5;167;01mValueError\u001b[39;00m(\u001b[38;5;124m\"\u001b[39m\u001b[38;5;124mSample larger than population or is negative\u001b[39m\u001b[38;5;124m\"\u001b[39m)\n\u001b[0;32m    450\u001b[0m result \u001b[38;5;241m=\u001b[39m [\u001b[38;5;28;01mNone\u001b[39;00m] \u001b[38;5;241m*\u001b[39m k\n\u001b[0;32m    451\u001b[0m setsize \u001b[38;5;241m=\u001b[39m \u001b[38;5;241m21\u001b[39m        \u001b[38;5;66;03m# size of a small set minus size of an empty list\u001b[39;00m\n",
      "\u001b[1;31mValueError\u001b[0m: Sample larger than population or is negative"
     ]
    }
   ],
   "source": [
    "import requests\n",
    "import random\n",
    "\n",
    "url='https://newsapi.org/v2/top-headlines?country=in&category=cyber&apiKey=01a425686ae74b939601e6adf09e9b7b'\n",
    "response=requests.get(url)\n",
    "\n",
    "def getTechNews():\n",
    "  res=random.sample(range(len(response.json()['articles'])),5)\n",
    "  news_articles=[]\n",
    "  for i in res:\n",
    "    news_articles.append({'title':response.json()['articles'][i]['title'],'url':response.json()['articles'][i]['url']})\n",
    "  \n",
    "  return news_articles\n",
    "\n",
    "print(getTechNews())\n",
    "\n",
    "\n"
   ]
  },
  {
   "cell_type": "code",
   "execution_count": null,
   "id": "94a6a2c6",
   "metadata": {},
   "outputs": [],
   "source": []
  },
  {
   "cell_type": "code",
   "execution_count": null,
   "id": "d6abd97d",
   "metadata": {},
   "outputs": [],
   "source": []
  },
  {
   "cell_type": "code",
   "execution_count": null,
   "id": "18acf008",
   "metadata": {},
   "outputs": [],
   "source": []
  },
  {
   "cell_type": "code",
   "execution_count": 43,
   "id": "dc36075d",
   "metadata": {},
   "outputs": [],
   "source": [
    "def getBlogs(query,count):\n",
    "\n",
    "    newQuery=query.replace(' ','+')\n",
    "    \n",
    "    url = f\"https://www.google.com/search?q={newQuery}\"\n",
    "\n",
    "    headers = {\n",
    "        \"User-Agent\": \"Mozilla/5.0 (Windows NT 10.0; Win64; x64) AppleWebKit/537.36 (KHTML, like Gecko) Chrome/91.0.4472.124 Safari/537.36\"\n",
    "    }\n",
    "\n",
    "    response = requests.get(url, headers=headers)\n",
    "    blogs=[]\n",
    "    if response.status_code == 200:\n",
    "        soup = BeautifulSoup(response.content, 'html.parser')\n",
    "        results = soup.find_all('div', class_='g')\n",
    "\n",
    "        if results:\n",
    "            for result in results:\n",
    "                title_element = result.find('h3')\n",
    "                if title_element:\n",
    "                    blogs.append({'title':title_element.text.strip()})\n",
    "                    link_element = result.find('a')\n",
    "                    if link_element:\n",
    "                        blogs[len(blogs)-1]['link']=link_element['href']\n",
    "                if len(blogs)==count:\n",
    "                    break\n",
    "    if response.status_code==429:\n",
    "        return 'TOO MANY REQUESTS ERRO'\n",
    "    return blogs"
   ]
  },
  {
   "cell_type": "code",
   "execution_count": 60,
   "id": "a8053978",
   "metadata": {},
   "outputs": [
    {
     "data": {
      "text/plain": [
       "[{'title': 'The Singapore Cybersecurity Strategy 2021',\n",
       "  'link': \"https://www.csa.gov.sg/Tips-Resource/publications/2021/singapore-cybersecurity-strategy-2021#:~:text=The%20Singapore%20Cybersecurity%20Strategy%202021%20outlines%20Singapore's%20updated%20goals%20and,technologies%20are%20on%20the%20horizon.\"},\n",
       " {'title': 'The Singapore Cybersecurity Strategy 2021',\n",
       "  'link': \"https://www.csa.gov.sg/Tips-Resource/publications/2021/singapore-cybersecurity-strategy-2021#:~:text=The%20Singapore%20Cybersecurity%20Strategy%202021%20outlines%20Singapore's%20updated%20goals%20and,technologies%20are%20on%20the%20horizon.\"},\n",
       " {'title': 'Singapore to take a more proactive stance on cyber threats ...',\n",
       "  'link': 'https://www.channelnewsasia.com/singapore/singapore-proactive-stance-cyber-threats-updated-national-strategy-2223536'},\n",
       " {'title': 'Singapore rolls out national cybersecurity strategy',\n",
       "  'link': 'https://www.asiainsurancereview.com/Magazine/ReadMagazineArticle?aid=38644'},\n",
       " {'title': 'Singapore refreshes cybersecurity strategy to build a cyber ...',\n",
       "  'link': 'https://sandpipercomms.com/corporate-communications/singapore-refreshes-cybersecurity-strategy-to-build-a-cyber-resilient-nation/'}]"
      ]
     },
     "execution_count": 60,
     "metadata": {},
     "output_type": "execute_result"
    }
   ],
   "source": [
    "getBlogs(query=query,count=5)"
   ]
  },
  {
   "cell_type": "code",
   "execution_count": null,
   "id": "1c53420c",
   "metadata": {},
   "outputs": [],
   "source": []
  }
 ],
 "metadata": {
  "kernelspec": {
   "display_name": "Python 3 (ipykernel)",
   "language": "python",
   "name": "python3"
  },
  "language_info": {
   "codemirror_mode": {
    "name": "ipython",
    "version": 3
   },
   "file_extension": ".py",
   "mimetype": "text/x-python",
   "name": "python",
   "nbconvert_exporter": "python",
   "pygments_lexer": "ipython3",
   "version": "3.9.16"
  }
 },
 "nbformat": 4,
 "nbformat_minor": 5
}
