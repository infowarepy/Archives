{
 "cells": [
  {
   "cell_type": "code",
   "execution_count": 23,
   "id": "7b9dd64f",
   "metadata": {
    "scrolled": false
   },
   "outputs": [],
   "source": [
    "import datetime\n",
    "start_time = datetime.datetime.now()\n",
    "time_string_1= start_time.strftime(\"%Y-%m-%d %H:%M%S\")"
   ]
  },
  {
   "cell_type": "code",
   "execution_count": 24,
   "id": "b1ed1ed6",
   "metadata": {},
   "outputs": [
    {
     "data": {
      "text/plain": [
       "'2023-07-05 13:36:08'"
      ]
     },
     "execution_count": 24,
     "metadata": {},
     "output_type": "execute_result"
    }
   ],
   "source": [
    "time_string_1"
   ]
  },
  {
   "cell_type": "code",
   "execution_count": 25,
   "id": "2dc87b1d",
   "metadata": {},
   "outputs": [],
   "source": [
    "final_time = datetime.datetime.now()\n",
    "time_string_2= final_time.strftime(\"%Y-%m-%d %H:%M:%S\")"
   ]
  },
  {
   "cell_type": "code",
   "execution_count": 26,
   "id": "3b0fbf3f",
   "metadata": {},
   "outputs": [
    {
     "data": {
      "text/plain": [
       "'2023-07-05 13:36:13'"
      ]
     },
     "execution_count": 26,
     "metadata": {},
     "output_type": "execute_result"
    }
   ],
   "source": [
    "time_string_2"
   ]
  },
  {
   "cell_type": "code",
   "execution_count": 27,
   "id": "e6d2f2c3",
   "metadata": {},
   "outputs": [],
   "source": [
    "time=final_time-start_time"
   ]
  },
  {
   "cell_type": "code",
   "execution_count": 30,
   "id": "b1508d3a",
   "metadata": {},
   "outputs": [
    {
     "data": {
      "text/plain": [
       "5"
      ]
     },
     "execution_count": 30,
     "metadata": {},
     "output_type": "execute_result"
    }
   ],
   "source": [
    "time.seconds"
   ]
  },
  {
   "cell_type": "code",
   "execution_count": null,
   "id": "3f645e99",
   "metadata": {},
   "outputs": [],
   "source": []
  },
  {
   "cell_type": "code",
   "execution_count": null,
   "id": "7a58450d",
   "metadata": {},
   "outputs": [],
   "source": []
  },
  {
   "cell_type": "code",
   "execution_count": null,
   "id": "0bc1f7cc",
   "metadata": {},
   "outputs": [],
   "source": []
  },
  {
   "cell_type": "code",
   "execution_count": 32,
   "id": "4f8cb75a",
   "metadata": {},
   "outputs": [
    {
     "ename": "KeyboardInterrupt",
     "evalue": "",
     "output_type": "error",
     "traceback": [
      "\u001b[1;31m---------------------------------------------------------------------------\u001b[0m",
      "\u001b[1;31mKeyboardInterrupt\u001b[0m                         Traceback (most recent call last)",
      "Cell \u001b[1;32mIn[32], line 55\u001b[0m\n\u001b[0;32m     53\u001b[0m buttons \u001b[38;5;241m=\u001b[39m []\n\u001b[0;32m     54\u001b[0m \u001b[38;5;28;01mfor\u001b[39;00m number \u001b[38;5;129;01min\u001b[39;00m \u001b[38;5;28mrange\u001b[39m(\u001b[38;5;241m1\u001b[39m, \u001b[38;5;241m26\u001b[39m):\n\u001b[1;32m---> 55\u001b[0m     button, text \u001b[38;5;241m=\u001b[39m \u001b[43mcreate_random_button\u001b[49m\u001b[43m(\u001b[49m\u001b[43mbuttons\u001b[49m\u001b[43m,\u001b[49m\u001b[43m \u001b[49m\u001b[43mnumber\u001b[49m\u001b[43m)\u001b[49m\n\u001b[0;32m     56\u001b[0m     buttons\u001b[38;5;241m.\u001b[39mappend(button)\n\u001b[0;32m     58\u001b[0m \u001b[38;5;66;03m# Start the Tkinter event loop\u001b[39;00m\n",
      "Cell \u001b[1;32mIn[32], line 39\u001b[0m, in \u001b[0;36mcreate_random_button\u001b[1;34m(buttons, number)\u001b[0m\n\u001b[0;32m     36\u001b[0m     new_x \u001b[38;5;241m=\u001b[39m random\u001b[38;5;241m.\u001b[39mrandint(button_size, window_width \u001b[38;5;241m-\u001b[39m button_size)\n\u001b[0;32m     37\u001b[0m     new_y \u001b[38;5;241m=\u001b[39m random\u001b[38;5;241m.\u001b[39mrandint(button_size, window_height \u001b[38;5;241m-\u001b[39m button_size)\n\u001b[1;32m---> 39\u001b[0m     \u001b[38;5;28;01mif\u001b[39;00m \u001b[38;5;129;01mnot\u001b[39;00m \u001b[43mcheck_overlap\u001b[49m\u001b[43m(\u001b[49m\u001b[43mnew_x\u001b[49m\u001b[43m,\u001b[49m\u001b[43m \u001b[49m\u001b[43mnew_y\u001b[49m\u001b[43m,\u001b[49m\u001b[43m \u001b[49m\u001b[43mbuttons\u001b[49m\u001b[43m)\u001b[49m:\n\u001b[0;32m     40\u001b[0m         \u001b[38;5;28;01mbreak\u001b[39;00m\n\u001b[0;32m     42\u001b[0m button \u001b[38;5;241m=\u001b[39m canvas\u001b[38;5;241m.\u001b[39mcreate_oval(new_x \u001b[38;5;241m-\u001b[39m button_size, new_y \u001b[38;5;241m-\u001b[39m button_size,\n\u001b[0;32m     43\u001b[0m                             new_x \u001b[38;5;241m+\u001b[39m button_size, new_y \u001b[38;5;241m+\u001b[39m button_size,\n\u001b[0;32m     44\u001b[0m                             fill\u001b[38;5;241m=\u001b[39m\u001b[38;5;124m\"\u001b[39m\u001b[38;5;124mblue\u001b[39m\u001b[38;5;124m\"\u001b[39m, outline\u001b[38;5;241m=\u001b[39m\u001b[38;5;124m\"\u001b[39m\u001b[38;5;124mwhite\u001b[39m\u001b[38;5;124m\"\u001b[39m)\n",
      "Cell \u001b[1;32mIn[32], line 24\u001b[0m, in \u001b[0;36mcheck_overlap\u001b[1;34m(new_x, new_y, buttons)\u001b[0m\n\u001b[0;32m     21\u001b[0m min_distance \u001b[38;5;241m=\u001b[39m \u001b[38;5;241m100\u001b[39m  \u001b[38;5;66;03m# Adjust the minimum distance as needed\u001b[39;00m\n\u001b[0;32m     23\u001b[0m \u001b[38;5;28;01mfor\u001b[39;00m button \u001b[38;5;129;01min\u001b[39;00m buttons:\n\u001b[1;32m---> 24\u001b[0m     x, y, _, _ \u001b[38;5;241m=\u001b[39m \u001b[43mcanvas\u001b[49m\u001b[38;5;241;43m.\u001b[39;49m\u001b[43mcoords\u001b[49m\u001b[43m(\u001b[49m\u001b[43mbutton\u001b[49m\u001b[43m)\u001b[49m\n\u001b[0;32m     25\u001b[0m     distance \u001b[38;5;241m=\u001b[39m ((new_x \u001b[38;5;241m-\u001b[39m x) \u001b[38;5;241m*\u001b[39m\u001b[38;5;241m*\u001b[39m \u001b[38;5;241m2\u001b[39m \u001b[38;5;241m+\u001b[39m (new_y \u001b[38;5;241m-\u001b[39m y) \u001b[38;5;241m*\u001b[39m\u001b[38;5;241m*\u001b[39m \u001b[38;5;241m2\u001b[39m) \u001b[38;5;241m*\u001b[39m\u001b[38;5;241m*\u001b[39m \u001b[38;5;241m0.5\u001b[39m\n\u001b[0;32m     26\u001b[0m     \u001b[38;5;28;01mif\u001b[39;00m distance \u001b[38;5;241m<\u001b[39m min_distance:\n",
      "File \u001b[1;32m~\\anaconda3\\lib\\tkinter\\__init__.py:2766\u001b[0m, in \u001b[0;36mCanvas.coords\u001b[1;34m(self, *args)\u001b[0m\n\u001b[0;32m   2762\u001b[0m \u001b[38;5;250m\u001b[39m\u001b[38;5;124;03m\"\"\"Return a list of coordinates for the item given in ARGS.\"\"\"\u001b[39;00m\n\u001b[0;32m   2763\u001b[0m \u001b[38;5;66;03m# XXX Should use _flatten on args\u001b[39;00m\n\u001b[0;32m   2764\u001b[0m \u001b[38;5;28;01mreturn\u001b[39;00m [\u001b[38;5;28mself\u001b[39m\u001b[38;5;241m.\u001b[39mtk\u001b[38;5;241m.\u001b[39mgetdouble(x) \u001b[38;5;28;01mfor\u001b[39;00m x \u001b[38;5;129;01min\u001b[39;00m\n\u001b[0;32m   2765\u001b[0m                    \u001b[38;5;28mself\u001b[39m\u001b[38;5;241m.\u001b[39mtk\u001b[38;5;241m.\u001b[39msplitlist(\n\u001b[1;32m-> 2766\u001b[0m            \u001b[38;5;28;43mself\u001b[39;49m\u001b[38;5;241;43m.\u001b[39;49m\u001b[43mtk\u001b[49m\u001b[38;5;241;43m.\u001b[39;49m\u001b[43mcall\u001b[49m\u001b[43m(\u001b[49m\u001b[43m(\u001b[49m\u001b[38;5;28;43mself\u001b[39;49m\u001b[38;5;241;43m.\u001b[39;49m\u001b[43m_w\u001b[49m\u001b[43m,\u001b[49m\u001b[43m \u001b[49m\u001b[38;5;124;43m'\u001b[39;49m\u001b[38;5;124;43mcoords\u001b[39;49m\u001b[38;5;124;43m'\u001b[39;49m\u001b[43m)\u001b[49m\u001b[43m \u001b[49m\u001b[38;5;241;43m+\u001b[39;49m\u001b[43m \u001b[49m\u001b[43margs\u001b[49m\u001b[43m)\u001b[49m)]\n",
      "\u001b[1;31mKeyboardInterrupt\u001b[0m: "
     ]
    }
   ],
   "source": [
    "import tkinter as tk\n",
    "import random\n",
    "\n",
    "def button_clicked(event):\n",
    "    button_number = event.widget['text']\n",
    "    print(f\"Button {button_number} clicked!\")\n",
    "\n",
    "# Create the main window\n",
    "root = tk.Tk()\n",
    "\n",
    "# Set the size of the GUI window\n",
    "window_width = 600\n",
    "window_height = 400\n",
    "\n",
    "# Create a canvas widget to hold the buttons\n",
    "canvas = tk.Canvas(root, width=window_width, height=window_height)\n",
    "canvas.pack()\n",
    "\n",
    "# Function to check if a new button overlaps with existing buttons\n",
    "def check_overlap(new_x, new_y, buttons):\n",
    "    min_distance = 100  # Adjust the minimum distance as needed\n",
    "\n",
    "    for button in buttons:\n",
    "        x, y, _, _ = canvas.coords(button)\n",
    "        distance = ((new_x - x) ** 2 + (new_y - y) ** 2) ** 0.5\n",
    "        if distance < min_distance:\n",
    "            return True\n",
    "    \n",
    "    return False\n",
    "\n",
    "# Function to create a round button at random coordinates with a minimum distance\n",
    "def create_random_button(buttons, number):\n",
    "    button_size = 15\n",
    "\n",
    "    while True:\n",
    "        new_x = random.randint(button_size, window_width - button_size)\n",
    "        new_y = random.randint(button_size, window_height - button_size)\n",
    "\n",
    "        if not check_overlap(new_x, new_y, buttons):\n",
    "            break\n",
    "\n",
    "    button = canvas.create_oval(new_x - button_size, new_y - button_size,\n",
    "                                new_x + button_size, new_y + button_size,\n",
    "                                fill=\"blue\", outline=\"white\")\n",
    "    text = canvas.create_text(new_x, new_y, text=str(number), fill=\"white\",\n",
    "                              font=(\"Arial\", 12, \"bold\"))\n",
    "\n",
    "    canvas.tag_bind(button, \"<Button-1>\", lambda event: button_clicked(event))\n",
    "\n",
    "    return button, text\n",
    "\n",
    "# Create round buttons with numbers\n",
    "buttons = []\n",
    "for number in range(1, 26):\n",
    "    button, text = create_random_button(buttons, number)\n",
    "    buttons.append(button)\n",
    "\n",
    "# Start the Tkinter event loop\n",
    "root.mainloop()"
   ]
  },
  {
   "cell_type": "code",
   "execution_count": 1,
   "id": "ed83fe4c",
   "metadata": {},
   "outputs": [],
   "source": [
    "import cv2\n",
    "import numpy as np"
   ]
  },
  {
   "cell_type": "code",
   "execution_count": 2,
   "id": "7c478f26",
   "metadata": {},
   "outputs": [],
   "source": [
    "import json\n",
    "f = open('image_data.json')\n",
    "data = json.load(f)\n",
    "f.close()"
   ]
  },
  {
   "cell_type": "code",
   "execution_count": 3,
   "id": "c31683b9",
   "metadata": {},
   "outputs": [
    {
     "ename": "ModuleNotFoundError",
     "evalue": "No module named 'Tkinter'",
     "output_type": "error",
     "traceback": [
      "\u001b[1;31m---------------------------------------------------------------------------\u001b[0m",
      "\u001b[1;31mModuleNotFoundError\u001b[0m                       Traceback (most recent call last)",
      "Cell \u001b[1;32mIn[3], line 1\u001b[0m\n\u001b[1;32m----> 1\u001b[0m \u001b[38;5;28;01mimport\u001b[39;00m \u001b[38;5;21;01mTkinter\u001b[39;00m\n",
      "\u001b[1;31mModuleNotFoundError\u001b[0m: No module named 'Tkinter'"
     ]
    }
   ],
   "source": [
    "import Tkinter"
   ]
  },
  {
   "cell_type": "code",
   "execution_count": null,
   "id": "7ddbc3c3",
   "metadata": {},
   "outputs": [],
   "source": []
  },
  {
   "cell_type": "code",
   "execution_count": null,
   "id": "678d7d3e",
   "metadata": {},
   "outputs": [],
   "source": [
    "for i in data[image_path[7]]:\n",
    "    print(i,data[image_path[7]][i])\n",
    "    button_coordinates.append(data[image_path[7]][i])"
   ]
  },
  {
   "cell_type": "code",
   "execution_count": null,
   "id": "711ac940",
   "metadata": {},
   "outputs": [],
   "source": [
    "button_coordinates"
   ]
  },
  {
   "cell_type": "code",
   "execution_count": null,
   "id": "57b967e1",
   "metadata": {},
   "outputs": [],
   "source": [
    "image = cv2.imread('../Trail Making Test/images/1.png')\n",
    "gray = cv2.cvtColor(image, cv2.COLOR_BGR2GRAY)\n",
    "_, thresholded = cv2.threshold(gray, 127, 255, cv2.THRESH_BINARY)\n",
    "contours, _ = cv2.findContours(thresholded, cv2.CHAIN_APPROX_SIMPLE, cv2.CHAIN_APPROX_NONE)\n",
    "\n",
    "for i, contour in enumerate(contours):\n",
    "        contour = np.squeeze(contour)\n",
    "        epsilon = 0.05 * cv2.arcLength(contour, True)\n",
    "        approx = cv2.approxPolyDP(contour, epsilon, True)\n",
    "        for i in range(1, len(approx)):\n",
    "            cv2.line(image, tuple(approx[i-1][0]), tuple(approx[i][0]), (0, 0, 255), 2)\n",
    "        color = (0, 0, 255)  # Red color for even contours\n",
    "        \n",
    "        cv2.drawContours(image, [contour], -1, color, 2)\n",
    "cv2.imshow('Image with Alternate Colored Contours', image)\n",
    "cv2.waitKey(0)\n",
    "cv2.destroyAllWindows()\n"
   ]
  },
  {
   "cell_type": "code",
   "execution_count": null,
   "id": "1d45055c",
   "metadata": {},
   "outputs": [],
   "source": [
    "import cv2\n",
    "import numpy as np\n",
    "\n",
    "def compare_images(image1_path, image2_path):\n",
    "    # Read the images\n",
    "    image1 = cv2.imread(image1_path)\n",
    "    image2 = cv2.imread(image2_path)\n",
    "\n",
    "    # Convert the images to grayscale\n",
    "    gray1 = cv2.cvtColor(image1, cv2.COLOR_BGR2GRAY)\n",
    "    gray2 = cv2.cvtColor(image2, cv2.COLOR_BGR2GRAY)\n",
    "\n",
    "    # Compute the mean squared error (MSE)\n",
    "    mse = np.mean((gray1 - gray2) ** 2)\n",
    "\n",
    "    # Print the MSE value\n",
    "    print(f\"Mean Squared Error (MSE): {mse}\")\n",
    "\n",
    "    # Compare the MSE value against a threshold to determine similarity\n",
    "    if mse < threshold:\n",
    "        print(\"The images are similar.\")\n",
    "    else:\n",
    "        print(\"The images are different.\")\n",
    "\n",
    "    # Display the images for visual comparison\n",
    "    cv2.imshow(\"Image 1\", image1)\n",
    "    cv2.imshow(\"Image 2\", image2)\n",
    "    cv2.waitKey(0)\n",
    "    cv2.destroyAllWindows()\n",
    "\n",
    "\n",
    "# Provide the paths to your images\n",
    "image1_path = \"images/1.png\"\n",
    "image2_path = \"images/11.png\"\n",
    "\n",
    "# Set the threshold for determining similarity (adjust as needed)\n",
    "threshold = 100\n",
    "\n",
    "# Call the function to compare the images\n",
    "compare_images(image1_path, image2_path)\n"
   ]
  },
  {
   "cell_type": "markdown",
   "id": "b6359e92",
   "metadata": {},
   "source": [
    "# draw_excluded_contours('images/1.png')"
   ]
  },
  {
   "cell_type": "code",
   "execution_count": null,
   "id": "b30e87d5",
   "metadata": {},
   "outputs": [],
   "source": [
    "dictionary"
   ]
  },
  {
   "cell_type": "code",
   "execution_count": 67,
   "id": "a7bed63d",
   "metadata": {},
   "outputs": [
    {
     "name": "stdout",
     "output_type": "stream",
     "text": [
      "2023-07-04 23:05:37\n"
     ]
    }
   ],
   "source": [
    "import datetime\n",
    "current_time = datetime.datetime.now()\n",
    "time_string = current_time.strftime(\"%Y-%m-%d %H:%M:%S\")\n",
    "print(time_string)"
   ]
  },
  {
   "cell_type": "code",
   "execution_count": null,
   "id": "da15916b",
   "metadata": {},
   "outputs": [],
   "source": [
    "import json\n",
    "    \n",
    "# Data to be written\n",
    "# dictionary['1']=data\n",
    "    \n",
    "with open(\"image_data.json\", \"w\") as outfile:\n",
    "    json.dump(dictionary, outfile)"
   ]
  },
  {
   "cell_type": "code",
   "execution_count": null,
   "id": "c74788d4",
   "metadata": {},
   "outputs": [],
   "source": []
  }
 ],
 "metadata": {
  "kernelspec": {
   "display_name": "Python 3 (ipykernel)",
   "language": "python",
   "name": "python3"
  },
  "language_info": {
   "codemirror_mode": {
    "name": "ipython",
    "version": 3
   },
   "file_extension": ".py",
   "mimetype": "text/x-python",
   "name": "python",
   "nbconvert_exporter": "python",
   "pygments_lexer": "ipython3",
   "version": "3.9.16"
  }
 },
 "nbformat": 4,
 "nbformat_minor": 5
}
