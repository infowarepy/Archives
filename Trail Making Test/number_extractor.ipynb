{
 "cells": [
  {
   "cell_type": "code",
   "execution_count": 1,
   "id": "f52d0f41",
   "metadata": {},
   "outputs": [],
   "source": [
    "import cv2\n",
    "import numpy as np"
   ]
  },
  {
   "cell_type": "code",
   "execution_count": 2,
   "id": "343e3c0d",
   "metadata": {
    "scrolled": true
   },
   "outputs": [
    {
     "name": "stdout",
     "output_type": "stream",
     "text": [
      "24\n",
      "20\n",
      "18\n",
      "4\n",
      "13\n",
      "21\n",
      "3\n",
      "15\n",
      "10\n",
      "22\n",
      "19\n",
      "7\n",
      "6\n",
      "16\n",
      "11\n",
      "17\n",
      "12\n",
      "9\n",
      "25\n",
      "1\n",
      "23\n",
      "2\n",
      "14\n",
      "5\n",
      "8\n"
     ]
    }
   ],
   "source": [
    "import cv2\n",
    "import numpy as np\n",
    "\n",
    "def extract_and_visualize_circles(image_path):\n",
    "    # Read the image\n",
    "    image = cv2.imread(image_path)\n",
    "\n",
    "    # Convert the image to grayscale\n",
    "    gray = cv2.cvtColor(image, cv2.COLOR_BGR2GRAY)\n",
    "\n",
    "    # Apply image processing to detect circles\n",
    "    circles = cv2.HoughCircles(\n",
    "        gray,\n",
    "        cv2.HOUGH_GRADIENT,\n",
    "        dp=1,\n",
    "        minDist=50,\n",
    "        param1=50,\n",
    "        param2=30,\n",
    "        minRadius=10,\n",
    "        maxRadius=30\n",
    "    )\n",
    "    coordinates = {}\n",
    "    if circles is not None:\n",
    "        # Convert the circle parameters to integers\n",
    "        circles = np.round(circles[0, :]).astype(\"int\")\n",
    "\n",
    "        # Iterate through each circle\n",
    "        for i, (x, y, r) in enumerate(circles):\n",
    "            # Create a mask to extract the current circle\n",
    "            mask = np.zeros_like(gray)\n",
    "            cv2.circle(mask, (x, y), r, 255, -1)\n",
    "            extracted_circle = cv2.bitwise_and(image, image, mask=mask)\n",
    "\n",
    "            # Display the extracted circle\n",
    "            cv2.imshow(f\"Circle {i+1}\", extracted_circle)\n",
    "            cv2.waitKey(0)\n",
    "            cv2.destroyAllWindows()\n",
    "            number = int(input())  # Assuming the number is the pixel value at the circle center\n",
    "            coordinates[number] = (x, y)\n",
    "        return coordinates\n",
    "    \n",
    "# Provide the path to your image\n",
    "image_path = \"images/2.jpg\"\n",
    "\n",
    "# Call the function to extract and visualize the circles\n",
    "coordinates=extract_and_visualize_circles(image_path)\n"
   ]
  },
  {
   "cell_type": "code",
   "execution_count": 3,
   "id": "7b0fb5bd",
   "metadata": {},
   "outputs": [],
   "source": [
    "data_2=coordinates"
   ]
  },
  {
   "cell_type": "code",
   "execution_count": 4,
   "id": "4c2f48bf",
   "metadata": {},
   "outputs": [],
   "source": [
    "import json\n",
    "f = open('image_data.json')\n",
    "dictionary = json.load(f)\n",
    "f.close()"
   ]
  },
  {
   "cell_type": "code",
   "execution_count": 20,
   "id": "0576c55f",
   "metadata": {},
   "outputs": [
    {
     "name": "stdout",
     "output_type": "stream",
     "text": [
      "24\n",
      "20\n",
      "18\n",
      "4\n",
      "13\n",
      "21\n",
      "3\n",
      "15\n",
      "10\n",
      "22\n",
      "19\n",
      "7\n",
      "6\n",
      "16\n",
      "11\n",
      "17\n",
      "12\n",
      "9\n",
      "25\n",
      "1\n",
      "23\n",
      "2\n",
      "14\n",
      "5\n",
      "8\n"
     ]
    }
   ],
   "source": [
    "for i in dictionary['2']:\n",
    "    print(i)"
   ]
  },
  {
   "cell_type": "code",
   "execution_count": 23,
   "id": "0df56332",
   "metadata": {},
   "outputs": [],
   "source": [
    "import json\n",
    "with open(\"image_data.json\", \"w\") as outfile:\n",
    "    json.dump(dictionary, outfile)"
   ]
  },
  {
   "cell_type": "code",
   "execution_count": 22,
   "id": "2e807272",
   "metadata": {},
   "outputs": [],
   "source": [
    "dictionary={'1': {'19': [271, 680],\n",
    "  '23': [271, 138],\n",
    "  '17': [326, 483],\n",
    "  '20': [381, 729],\n",
    "  '8': [326, 335],\n",
    "  '24': [106, 286],\n",
    "  '7': [381, 138],\n",
    "  '13': [161, 188],\n",
    "  '10': [216, 630],\n",
    "  '25': [51, 434],\n",
    "  '14': [106, 89],\n",
    "  '15': [216, 40],\n",
    "  '3': [161, 433],\n",
    "  '12': [161, 335],\n",
    "  '22': [601, 385],\n",
    "  '18': [435, 581],\n",
    "  '16': [436, 88],\n",
    "  '21': [600, 680],\n",
    "  '5': [545, 482],\n",
    "  '6': [546, 236],\n",
    "  '2': [436, 385],\n",
    "  '11': [51, 680],\n",
    "  '4': [491, 679],\n",
    "  '1': [546, 89],\n",
    "  '9': [216, 532]},\n",
    " '2': {24: [262, 664],\n",
    "  '20': [88, 192],\n",
    "  '18': [270, 182],\n",
    "  '4': [572, 682],\n",
    "  '13': [458, 294],\n",
    "  '21': [106, 362],\n",
    "  '3': [458, 594],\n",
    "  '15': [298, 294],\n",
    "  '10': [742, 158],\n",
    "  '22': [98, 508],\n",
    "  '19': [192, 118],\n",
    "  '7': [646, 418],\n",
    "  '6': [722, 494],\n",
    "  '16': [232, 408],\n",
    "  '11': [646, 48],\n",
    "  '17': [152, 294],\n",
    "  '12': [530, 120],\n",
    "  '9': [646, 252],\n",
    "  '25': [298, 476],\n",
    "  '1': [414, 402],\n",
    "  '23': [148, 626],\n",
    "  '2': [530, 476],\n",
    "  '14': [382, 78],\n",
    "  '5': [666, 604],\n",
    "  '8': [720, 334]}}"
   ]
  },
  {
   "cell_type": "code",
   "execution_count": 29,
   "id": "a0b1c299",
   "metadata": {},
   "outputs": [],
   "source": [
    "def extract_and_visualize_circles(image_path):\n",
    "    image = cv2.imread(image_path)\n",
    "    gray = cv2.cvtColor(image, cv2.COLOR_BGR2GRAY)\n",
    "    circles = cv2.HoughCircles(\n",
    "        gray,\n",
    "        cv2.HOUGH_GRADIENT,\n",
    "        dp=1,\n",
    "        minDist=50,\n",
    "        param1=50,\n",
    "        param2=30,\n",
    "        minRadius=10,\n",
    "        maxRadius=30\n",
    "    )\n",
    "    if circles is not None:\n",
    "        circles = np.round(circles[0, :]).astype(\"int\")\n",
    "        for (x, y, r) in circles:\n",
    "            cv2.circle(image, (x, y), r, (0, 255, 0), 2)\n",
    "#             cv2.putText(image, str(r), (x - 10, y), cv2.FONT_HERSHEY_SIMPLEX, 0.6, (0, 0, 255), 2)\n",
    "    cv2.imshow(\"Circles\", image)\n",
    "    cv2.waitKey(0)\n",
    "    cv2.destroyAllWindows()"
   ]
  },
  {
   "cell_type": "code",
   "execution_count": 30,
   "id": "2f64353c",
   "metadata": {},
   "outputs": [],
   "source": [
    "image_path = \"images/1.png\"\n",
    "extract_and_visualize_circles(image_path)"
   ]
  },
  {
   "cell_type": "code",
   "execution_count": 35,
   "id": "4dcd1deb",
   "metadata": {},
   "outputs": [],
   "source": [
    "image = cv2.imread('images/2.jpg')\n",
    "gray = cv2.cvtColor(image, cv2.COLOR_BGR2GRAY)\n",
    "_, thresholded = cv2.threshold(gray, 127, 255, cv2.THRESH_BINARY)\n",
    "contours, _ = cv2.findContours(thresholded, cv2.CHAIN_APPROX_SIMPLE, cv2.CHAIN_APPROX_NONE)\n",
    "\n",
    "for i, contour in enumerate(contours):\n",
    "        if i % 2 == 0:\n",
    "            color = (0, 0, 255)  # Red color for even contours\n",
    "        else:\n",
    "            color = (255, 0, 0)  # Blue color for odd contours\n",
    "\n",
    "        cv2.drawContours(image, [contour], -1, color, 2)\n",
    "cv2.imshow('Image with Alternate Colored Contours', image)\n",
    "cv2.waitKey(0)\n",
    "cv2.destroyAllWindows()"
   ]
  },
  {
   "cell_type": "code",
   "execution_count": 15,
   "id": "dda396f8",
   "metadata": {},
   "outputs": [
    {
     "ename": "NameError",
     "evalue": "name 'circles' is not defined",
     "output_type": "error",
     "traceback": [
      "\u001b[1;31m---------------------------------------------------------------------------\u001b[0m",
      "\u001b[1;31mNameError\u001b[0m                                 Traceback (most recent call last)",
      "Cell \u001b[1;32mIn[15], line 1\u001b[0m\n\u001b[1;32m----> 1\u001b[0m \u001b[43mcircles\u001b[49m\n",
      "\u001b[1;31mNameError\u001b[0m: name 'circles' is not defined"
     ]
    }
   ],
   "source": [
    "circles"
   ]
  },
  {
   "cell_type": "code",
   "execution_count": 26,
   "id": "5f4c0380",
   "metadata": {},
   "outputs": [],
   "source": [
    "dictionary[image_path[7]]=data_1"
   ]
  },
  {
   "cell_type": "code",
   "execution_count": 28,
   "id": "3c29832b",
   "metadata": {},
   "outputs": [
    {
     "data": {
      "text/plain": [
       "{1: {19: (271, 680),\n",
       "  23: (271, 138),\n",
       "  17: (326, 483),\n",
       "  20: (381, 729),\n",
       "  8: (326, 335),\n",
       "  24: (106, 286),\n",
       "  7: (381, 138),\n",
       "  13: (161, 188),\n",
       "  10: (216, 630),\n",
       "  25: (51, 434),\n",
       "  14: (106, 89),\n",
       "  15: (216, 40),\n",
       "  3: (161, 433),\n",
       "  12: (161, 335),\n",
       "  22: (601, 385),\n",
       "  18: (435, 581),\n",
       "  16: (436, 88),\n",
       "  21: (600, 680),\n",
       "  5: (545, 482),\n",
       "  6: (546, 236),\n",
       "  2: (436, 385),\n",
       "  11: (51, 680),\n",
       "  4: (491, 679),\n",
       "  1: (546, 89),\n",
       "  9: (216, 532)},\n",
       " '1': {19: (271, 680),\n",
       "  23: (271, 138),\n",
       "  17: (326, 483),\n",
       "  20: (381, 729),\n",
       "  8: (326, 335),\n",
       "  24: (106, 286),\n",
       "  7: (381, 138),\n",
       "  13: (161, 188),\n",
       "  10: (216, 630),\n",
       "  25: (51, 434),\n",
       "  14: (106, 89),\n",
       "  15: (216, 40),\n",
       "  3: (161, 433),\n",
       "  12: (161, 335),\n",
       "  22: (601, 385),\n",
       "  18: (435, 581),\n",
       "  16: (436, 88),\n",
       "  21: (600, 680),\n",
       "  5: (545, 482),\n",
       "  6: (546, 236),\n",
       "  2: (436, 385),\n",
       "  11: (51, 680),\n",
       "  4: (491, 679),\n",
       "  1: (546, 89),\n",
       "  9: (216, 532)}}"
      ]
     },
     "execution_count": 28,
     "metadata": {},
     "output_type": "execute_result"
    }
   ],
   "source": [
    "dictionary"
   ]
  },
  {
   "cell_type": "code",
   "execution_count": 27,
   "id": "5dd896d8",
   "metadata": {},
   "outputs": [],
   "source": [
    "# Read the image\n",
    "image = cv2.imread('images/1.png')\n",
    "\n",
    "    # Convert the image to grayscale\n",
    "gray = cv2.cvtColor(image, cv2.COLOR_BGR2GRAY)\n",
    "circles = cv2.HoughCircles(\n",
    "        gray,\n",
    "        cv2.HOUGH_GRADIENT,\n",
    "        dp=1,\n",
    "        minDist=50,\n",
    "        param1=50,\n",
    "        param2=30,\n",
    "        minRadius=10,\n",
    "        maxRadius=30\n",
    "    )"
   ]
  },
  {
   "cell_type": "code",
   "execution_count": 28,
   "id": "0643955b",
   "metadata": {},
   "outputs": [
    {
     "name": "stdout",
     "output_type": "stream",
     "text": [
      "[[381.5 138.5  13.1]\n",
      " [216.5  40.5  13. ]\n",
      " [271.5 680.5  13. ]\n",
      " [216.5 630.5  13.2]\n",
      " [106.5 286.5  12.9]\n",
      " [271.5 138.5  13.2]\n",
      " [381.5 729.5  13.2]\n",
      " [546.5  89.5  13. ]\n",
      " [326.5 335.5  12.7]\n",
      " [600.5 385.5  13. ]\n",
      " [435.5  89.5  13.2]\n",
      " [ 51.5 434.5  12.7]\n",
      " [106.5  89.5  12.5]\n",
      " [217.5 531.5  11.8]\n",
      " [545.5 237.5  13.2]\n",
      " [ 51.5 680.5  12.9]\n",
      " [161.5 433.5  12.9]\n",
      " [491.5 679.5  12.2]\n",
      " [436.5 384.5  13.4]\n",
      " [545.5 482.5  13. ]\n",
      " [600.5 680.5  12.9]\n",
      " [326.5 483.5  12.5]\n",
      " [436.5 581.5  12.2]\n",
      " [162.5 187.5  12. ]\n",
      " [161.5 334.5  12.2]]\n"
     ]
    }
   ],
   "source": [
    "for circle in circles:\n",
    "    print(circle)"
   ]
  },
  {
   "cell_type": "code",
   "execution_count": null,
   "id": "59ed02bb",
   "metadata": {},
   "outputs": [],
   "source": []
  }
 ],
 "metadata": {
  "kernelspec": {
   "display_name": "Python 3 (ipykernel)",
   "language": "python",
   "name": "python3"
  },
  "language_info": {
   "codemirror_mode": {
    "name": "ipython",
    "version": 3
   },
   "file_extension": ".py",
   "mimetype": "text/x-python",
   "name": "python",
   "nbconvert_exporter": "python",
   "pygments_lexer": "ipython3",
   "version": "3.9.16"
  }
 },
 "nbformat": 4,
 "nbformat_minor": 5
}
